{
 "cells": [
  {
   "cell_type": "markdown",
   "metadata": {},
   "source": [
    "## PySAL Change Log Statistics: Table Generation\n",
    "\n",
    "This notebook generates the summary statistics for use in the 6-month releases of PySAL, which is now a meta package. \n",
    "\n",
    "It assumes the subpackages have been git cloned in a directory below the location of this notebook. It also requires network connectivity for some of the reporting.\n",
    "\n",
    "Run this notebook after `100-gitcount.ipynb`\n"
   ]
  },
  {
   "cell_type": "code",
   "execution_count": null,
   "metadata": {},
   "outputs": [],
   "source": [
    "from __future__ import print_function\n",
    "import os\n",
    "import json\n",
    "import re\n",
    "import sys\n",
    "import pandas\n",
    "import subprocess\n",
    "from subprocess import check_output\n",
    "\n",
    "#import yaml\n",
    "from datetime import datetime, timedelta\n",
    "\n",
    "from dateutil.parser import parse\n",
    "import pytz\n",
    "\n",
    "utc=pytz.UTC\n",
    "\n",
    "try:\n",
    "    from urllib import urlopen\n",
    "except:\n",
    "    from urllib.request import urlopen\n",
    "\n",
    "\n"
   ]
  },
  {
   "cell_type": "code",
   "execution_count": null,
   "metadata": {},
   "outputs": [],
   "source": [
    "PYSAL_RELEASE = '2021-01-31'\n",
    "release_date = datetime.strptime(PYSAL_RELEASE+\" 0:0:0\", \"%Y-%m-%d %H:%M:%S\")"
   ]
  },
  {
   "cell_type": "code",
   "execution_count": null,
   "metadata": {},
   "outputs": [],
   "source": [
    "release_date"
   ]
  },
  {
   "cell_type": "code",
   "execution_count": null,
   "metadata": {},
   "outputs": [],
   "source": [
    "CWD = os.path.abspath(os.path.curdir)"
   ]
  },
  {
   "cell_type": "code",
   "execution_count": null,
   "metadata": {},
   "outputs": [],
   "source": [
    "CWD"
   ]
  },
  {
   "cell_type": "code",
   "execution_count": null,
   "metadata": {},
   "outputs": [],
   "source": [
    "start_date = '2020-02-09'\n",
    "since_date = '--since=\"{start}\"'.format(start=start_date)\n",
    "since_date\n",
    "since = datetime.strptime(start_date+\" 0:0:0\", \"%Y-%m-%d %H:%M:%S\")\n",
    "since"
   ]
  },
  {
   "cell_type": "code",
   "execution_count": null,
   "metadata": {},
   "outputs": [],
   "source": [
    "with open('package_versions.txt', 'r') as package_list:\n",
    "    packages = dict([line.strip().split() for line in package_list.readlines()])"
   ]
  },
  {
   "cell_type": "code",
   "execution_count": null,
   "metadata": {},
   "outputs": [],
   "source": [
    "packages"
   ]
  },
  {
   "cell_type": "code",
   "execution_count": null,
   "metadata": {},
   "outputs": [],
   "source": [
    "import pickle"
   ]
  },
  {
   "cell_type": "code",
   "execution_count": null,
   "metadata": {},
   "outputs": [],
   "source": [
    "issues_closed = pickle.load(open(\"issues_closed.p\", 'rb'))\n",
    "pulls_closed = pickle.load(open('pulls_closed.p', 'rb'))"
   ]
  },
  {
   "cell_type": "code",
   "execution_count": null,
   "metadata": {},
   "outputs": [],
   "source": [
    "type(issues_closed)"
   ]
  },
  {
   "cell_type": "code",
   "execution_count": null,
   "metadata": {},
   "outputs": [],
   "source": [
    "issues_closed.keys()"
   ]
  },
  {
   "cell_type": "code",
   "execution_count": null,
   "metadata": {},
   "outputs": [],
   "source": [
    "from release_info import get_pypi_info, get_github_info, clone_defaults, gh_session"
   ]
  },
  {
   "cell_type": "code",
   "execution_count": null,
   "metadata": {},
   "outputs": [],
   "source": [
    "clone_defaults()"
   ]
  },
  {
   "cell_type": "code",
   "execution_count": null,
   "metadata": {},
   "outputs": [],
   "source": [
    "!ls tmp/"
   ]
  },
  {
   "cell_type": "code",
   "execution_count": null,
   "metadata": {},
   "outputs": [],
   "source": []
  },
  {
   "cell_type": "code",
   "execution_count": null,
   "metadata": {},
   "outputs": [],
   "source": [
    "url = f\"https://api.github.com/repos/pysal/spaghetti\"\n",
    "d = json.loads(gh_session.get(url).text)\n"
   ]
  },
  {
   "cell_type": "code",
   "execution_count": null,
   "metadata": {},
   "outputs": [],
   "source": [
    "d['default_branch']"
   ]
  },
  {
   "cell_type": "code",
   "execution_count": null,
   "metadata": {},
   "outputs": [],
   "source": [
    "url = f\"https://api.github.com/repos/pysal/spaghetti/releases/latest\"\n",
    "d = json.loads(gh_session.get(url).text)\n"
   ]
  },
  {
   "cell_type": "code",
   "execution_count": null,
   "metadata": {},
   "outputs": [],
   "source": [
    "d"
   ]
  },
  {
   "cell_type": "markdown",
   "metadata": {},
   "source": [
    "## Break"
   ]
  },
  {
   "cell_type": "code",
   "execution_count": null,
   "metadata": {},
   "outputs": [],
   "source": [
    "!ls tmp"
   ]
  },
  {
   "cell_type": "code",
   "execution_count": null,
   "metadata": {},
   "outputs": [],
   "source": [
    "github_releases = get_github_info()"
   ]
  },
  {
   "cell_type": "code",
   "execution_count": null,
   "metadata": {},
   "outputs": [],
   "source": [
    "github_releases"
   ]
  },
  {
   "cell_type": "code",
   "execution_count": null,
   "metadata": {},
   "outputs": [],
   "source": [
    "pypi_releases = get_pypi_info()"
   ]
  },
  {
   "cell_type": "code",
   "execution_count": null,
   "metadata": {},
   "outputs": [],
   "source": [
    "pypi_releases['esda']"
   ]
  },
  {
   "cell_type": "code",
   "execution_count": null,
   "metadata": {},
   "outputs": [],
   "source": [
    "# only issues closed before or on release date on pypi"
   ]
  },
  {
   "cell_type": "code",
   "execution_count": null,
   "metadata": {},
   "outputs": [],
   "source": [
    "from datetime import datetime"
   ]
  },
  {
   "cell_type": "code",
   "execution_count": null,
   "metadata": {},
   "outputs": [],
   "source": [
    "cut_off = pypi_releases['esda']['released']"
   ]
  },
  {
   "cell_type": "code",
   "execution_count": null,
   "metadata": {},
   "outputs": [],
   "source": [
    "pysal_date = datetime.strptime('2020-02-09T12:00:00Z', '%Y-%m-%dT%H:%M:%SZ')\n",
    "#ISO8601 = \"%Y-%m-%dT%H:%M:%SZ\"\n"
   ]
  },
  {
   "cell_type": "code",
   "execution_count": null,
   "metadata": {},
   "outputs": [],
   "source": [
    "pysal_rel = {'version': 'v2.2.0',\n",
    "            'release_date': pysal_date}\n",
    "github_releases['pysal'] = pysal_rel"
   ]
  },
  {
   "cell_type": "code",
   "execution_count": null,
   "metadata": {},
   "outputs": [],
   "source": [
    "github_releases"
   ]
  },
  {
   "cell_type": "code",
   "execution_count": null,
   "metadata": {},
   "outputs": [],
   "source": [
    "packages['pysal'] = '2.4.0'"
   ]
  },
  {
   "cell_type": "code",
   "execution_count": null,
   "metadata": {},
   "outputs": [],
   "source": [
    "from datetime import datetime\n",
    "datetime.fromtimestamp(0)\n",
    "ISO8601 = \"%Y-%m-%dT%H:%M:%SZ\"\n",
    "\n",
    "\n",
    "final_pulls = {}\n",
    "final_issues = {}\n",
    "for package in packages:\n",
    "    filtered_issues = []\n",
    "    filtered_pulls = []\n",
    "    released = github_releases[package]['release_date']\n",
    "    package_pulls = pulls_closed[package]\n",
    "    package_issues = issues_closed[package]\n",
    "    for issue in package_issues:\n",
    "        #print(issue['number'], issue['title'], issue['closed_at'])\n",
    "        closed = datetime.strptime(issue['closed_at'], ISO8601)\n",
    "        if closed <= released:\n",
    "            filtered_issues.append(issue)\n",
    "    final_issues[package] = filtered_issues\n",
    "    for pull in package_pulls:\n",
    "        #print(pull['number'], pull['title'], pull['closed_at'])\n",
    "        closed = datetime.strptime(pull['closed_at'], ISO8601)\n",
    "        if closed <= released:\n",
    "            filtered_pulls.append(pull)\n",
    "    final_pulls[package] = filtered_pulls\n",
    "    print(package, released, len(package_issues), len(filtered_issues), len(package_pulls),\n",
    "         len(filtered_pulls))"
   ]
  },
  {
   "cell_type": "code",
   "execution_count": null,
   "metadata": {},
   "outputs": [],
   "source": [
    "issue_details = final_issues\n",
    "pull_details = final_pulls"
   ]
  },
  {
   "cell_type": "code",
   "execution_count": null,
   "metadata": {},
   "outputs": [],
   "source": [
    "packages"
   ]
  },
  {
   "cell_type": "code",
   "execution_count": null,
   "metadata": {},
   "outputs": [],
   "source": [
    "github_releases['pysal']['release_date'] = release_date"
   ]
  },
  {
   "cell_type": "code",
   "execution_count": null,
   "metadata": {},
   "outputs": [],
   "source": [
    "released"
   ]
  },
  {
   "cell_type": "code",
   "execution_count": null,
   "metadata": {},
   "outputs": [],
   "source": [
    "# commits\n",
    "cmd = ['git', 'log', '--oneline', since_date]\n",
    "\n",
    "activity = {}\n",
    "total_commits = 0\n",
    "tag_dates = {}\n",
    "for subpackage in packages:\n",
    "    released = github_releases[subpackage]['release_date']\n",
    "    tag_date = released.strftime(\"%Y-%m-%d\")\n",
    "    tag_dates[subpackage] = tag_date\n",
    "    #print(tag_date)\n",
    "    #tag_date = tag_dates[subpackage]\n",
    "    os.chdir(CWD)\n",
    "    os.chdir('tmp/{subpackage}'.format(subpackage=subpackage))\n",
    "    cmd_until = cmd + ['--until=\"{tag_date}\"'.format(tag_date=tag_date)]\n",
    "    ncommits = len(check_output(cmd_until).splitlines())\n",
    "    ncommits_total = len(check_output(cmd).splitlines())\n",
    "    print(subpackage, ncommits_total, ncommits, tag_date)\n",
    "    total_commits += ncommits\n",
    "    activity[subpackage] = ncommits"
   ]
  },
  {
   "cell_type": "code",
   "execution_count": null,
   "metadata": {},
   "outputs": [],
   "source": [
    "!ls tmp/"
   ]
  },
  {
   "cell_type": "code",
   "execution_count": null,
   "metadata": {},
   "outputs": [],
   "source": [
    "CWD"
   ]
  },
  {
   "cell_type": "code",
   "execution_count": null,
   "metadata": {},
   "outputs": [],
   "source": [
    "# commits\n",
    "cmd = ['git', 'log', '--oneline', since_date]\n",
    "\n",
    "activity = {}\n",
    "total_commits = 0\n",
    "for subpackage in packages:\n",
    "    tag_date = tag_dates[subpackage]\n",
    "    os.chdir(CWD)\n",
    "    os.chdir('tmp/{subpackage}'.format(subpackage=subpackage))\n",
    "    cmd_until = cmd + ['--until=\"{tag_date}\"'.format(tag_date=tag_date)]\n",
    "    ncommits = len(check_output(cmd_until).splitlines())\n",
    "    ncommits_total = len(check_output(cmd).splitlines())\n",
    "    print(subpackage, ncommits_total, ncommits, tag_date)\n",
    "    total_commits += ncommits\n",
    "    activity[subpackage] = ncommits"
   ]
  },
  {
   "cell_type": "code",
   "execution_count": null,
   "metadata": {},
   "outputs": [],
   "source": [
    "cmd_until"
   ]
  },
  {
   "cell_type": "code",
   "execution_count": null,
   "metadata": {},
   "outputs": [],
   "source": [
    "identities = {'Levi John Wolf': ('ljwolf', 'Levi John Wolf'),\n",
    "              'Serge Rey': ('Serge Rey', 'Sergio Rey', 'sjsrey', 'serge'),\n",
    "              'Wei Kang': ('Wei Kang', 'weikang9009'),\n",
    "              'Dani Arribas-Bel': ('Dani Arribas-Bel', 'darribas'),\n",
    "              'Antti Härkönen': ( 'antth', 'Antti Härkönen', 'Antti Härkönen', 'Antth'  ),\n",
    "              'Juan C Duque': ('Juan C Duque', \"Juan Duque\"),\n",
    "              'Renan Xavier Cortes': ('Renan Xavier Cortes', 'renanxcortes', 'Renan Xavier Cortes'   ),\n",
    "              'Taylor Oshan': ('Tayloroshan', 'Taylor Oshan', 'TaylorOshan'),\n",
    "              'Tom Gertin': ('@Tomgertin', 'Tom Gertin', '@tomgertin')\n",
    "}\n",
    "\n",
    "def regularize_identity(string):\n",
    "    string = string.decode()\n",
    "    for name, aliases in identities.items():\n",
    "        for alias in aliases:\n",
    "            if alias in string:\n",
    "                string = string.replace(alias, name)\n",
    "    if len(string.split(' '))>1:\n",
    "        string = string.title()\n",
    "    return string.lstrip('* ')"
   ]
  },
  {
   "cell_type": "code",
   "execution_count": null,
   "metadata": {},
   "outputs": [],
   "source": [
    "author_cmd = ['git', 'log', '--format=* %aN', since_date]"
   ]
  },
  {
   "cell_type": "code",
   "execution_count": null,
   "metadata": {},
   "outputs": [],
   "source": [
    "author_cmd.append('blank')"
   ]
  },
  {
   "cell_type": "code",
   "execution_count": null,
   "metadata": {},
   "outputs": [],
   "source": [
    "author_cmd"
   ]
  },
  {
   "cell_type": "code",
   "execution_count": null,
   "metadata": {},
   "outputs": [],
   "source": [
    "from collections import Counter"
   ]
  },
  {
   "cell_type": "code",
   "execution_count": null,
   "metadata": {},
   "outputs": [],
   "source": [
    "tag_dates"
   ]
  },
  {
   "cell_type": "code",
   "execution_count": null,
   "metadata": {},
   "outputs": [],
   "source": [
    "authors_global = set()\n",
    "authors = {}\n",
    "global_counter = Counter()\n",
    "counters = dict()\n",
    "cmd = ['git', 'log', '--oneline', since_date]\n",
    "total_commits = 0\n",
    "activity = {}\n",
    "for subpackage in packages:\n",
    "    os.chdir(CWD)\n",
    "    os.chdir('tmp/{subpackage}'.format(subpackage=subpackage))\n",
    "    ncommits = len(check_output(cmd).splitlines())\n",
    "    tag_date = tag_dates[subpackage]\n",
    "    tag_date = (datetime.strptime(tag_date, '%Y-%m-%d') + timedelta(days=1)).strftime('%Y-%m-%d')\n",
    "    author_cmd[-1] = '--until=\"{tag_date}\"'.format(tag_date=tag_date)\n",
    "    #cmd_until = cmd + ['--until=\"{tag_date}\"'.format(tag_date=tag_date)]\n",
    "    print(author_cmd)\n",
    "\n",
    "\n",
    "    all_authors = check_output(author_cmd).splitlines()\n",
    "    counter = Counter([regularize_identity(author) for author in all_authors])\n",
    "    global_counter += counter\n",
    "    counters.update({subpackage: counter})\n",
    "    unique_authors = sorted(set(all_authors))\n",
    "    authors[subpackage] =  unique_authors\n",
    "    authors_global.update(unique_authors)\n",
    "    total_commits += ncommits\n",
    "    activity[subpackage] = ncommits"
   ]
  },
  {
   "cell_type": "code",
   "execution_count": null,
   "metadata": {},
   "outputs": [],
   "source": [
    "counter"
   ]
  },
  {
   "cell_type": "code",
   "execution_count": null,
   "metadata": {},
   "outputs": [],
   "source": [
    "authors_global"
   ]
  },
  {
   "cell_type": "code",
   "execution_count": null,
   "metadata": {},
   "outputs": [],
   "source": [
    "activity"
   ]
  },
  {
   "cell_type": "code",
   "execution_count": null,
   "metadata": {},
   "outputs": [],
   "source": [
    "counters"
   ]
  },
  {
   "cell_type": "code",
   "execution_count": null,
   "metadata": {},
   "outputs": [],
   "source": [
    "counters"
   ]
  },
  {
   "cell_type": "code",
   "execution_count": null,
   "metadata": {},
   "outputs": [],
   "source": [
    "def get_tag(title, level=\"##\", as_string=True):\n",
    "    words = title.split()\n",
    "    tag = \"-\".join([word.lower() for word in words])\n",
    "    heading = level+\" \"+title\n",
    "    line = \"\\n\\n<a name=\\\"{}\\\"></a>\".format(tag)\n",
    "    lines = [line]\n",
    "    lines.append(heading)\n",
    "    if as_string:\n",
    "        return \"\\n\".join(lines)\n",
    "    else:\n",
    "        return lines"
   ]
  },
  {
   "cell_type": "code",
   "execution_count": null,
   "metadata": {},
   "outputs": [],
   "source": [
    "subs = issue_details.keys()\n",
    "table = []\n",
    "txt = []\n",
    "lines = get_tag(\"Changes by Package\", as_string=False)\n",
    "\n",
    "for sub in subs:\n",
    "    total= issue_details[sub]\n",
    "    pr = pull_details[sub]\n",
    "    \n",
    "    row = [sub, activity[sub], len(total), len(pr)]\n",
    "    table.append(row)\n",
    "    #line = \"\\n<a name=\\\"{sub}\\\"></a>\".format(sub=sub)\n",
    "    #lines.append(line)\n",
    "    #line = \"### {sub}\".format(sub=sub)\n",
    "    #lines.append(line)\n",
    "    lines.extend(get_tag(sub.lower(), \"###\", as_string=False))\n",
    "    for issue in total:\n",
    "        url = issue['html_url']\n",
    "        title = issue['title']\n",
    "        number = issue['number']\n",
    "        line = \"* [#{number}:]({url}) {title} \".format(title=title,\n",
    "                                                     number=number,\n",
    "                                                     url=url)\n",
    "        lines.append(line)\n",
    "\n"
   ]
  },
  {
   "cell_type": "code",
   "execution_count": null,
   "metadata": {},
   "outputs": [],
   "source": [
    "line"
   ]
  },
  {
   "cell_type": "code",
   "execution_count": null,
   "metadata": {},
   "outputs": [],
   "source": [
    "table"
   ]
  },
  {
   "cell_type": "code",
   "execution_count": null,
   "metadata": {},
   "outputs": [],
   "source": [
    "os.chdir(CWD)\n",
    "\n",
    "import pandas"
   ]
  },
  {
   "cell_type": "code",
   "execution_count": null,
   "metadata": {},
   "outputs": [],
   "source": [
    "df = pandas.DataFrame(table, columns=['package', 'commits', 'total issues', 'pulls'])"
   ]
  },
  {
   "cell_type": "code",
   "execution_count": null,
   "metadata": {},
   "outputs": [],
   "source": [
    "df.head()"
   ]
  },
  {
   "cell_type": "code",
   "execution_count": null,
   "metadata": {},
   "outputs": [],
   "source": [
    "df.sort_values(['commits','pulls'], ascending=False)\\\n",
    "  .to_html('./commit_table.html', index=None)"
   ]
  },
  {
   "cell_type": "code",
   "execution_count": null,
   "metadata": {},
   "outputs": [],
   "source": [
    "df.sum()"
   ]
  },
  {
   "cell_type": "code",
   "execution_count": null,
   "metadata": {},
   "outputs": [],
   "source": [
    "contributor_table = pandas.DataFrame.from_dict(counters).fillna(0).astype(int).T"
   ]
  },
  {
   "cell_type": "code",
   "execution_count": null,
   "metadata": {},
   "outputs": [],
   "source": [
    "contributor_table.to_html('./contributor_table.html')"
   ]
  },
  {
   "cell_type": "code",
   "execution_count": null,
   "metadata": {},
   "outputs": [],
   "source": [
    "totals = contributor_table.sum(axis=0).T\n",
    "totals.sort_index().to_frame('commits')"
   ]
  },
  {
   "cell_type": "code",
   "execution_count": null,
   "metadata": {},
   "outputs": [],
   "source": [
    "totals = contributor_table.sum(axis=0).T\n",
    "totals.sort_index().to_frame('commits').to_html('./commits_by_person.html')"
   ]
  },
  {
   "cell_type": "code",
   "execution_count": null,
   "metadata": {},
   "outputs": [],
   "source": [
    "totals"
   ]
  },
  {
   "cell_type": "code",
   "execution_count": null,
   "metadata": {},
   "outputs": [],
   "source": [
    "n_commits = df.commits.sum()\n",
    "n_issues = df['total issues'].sum()\n",
    "n_pulls = df.pulls.sum()"
   ]
  },
  {
   "cell_type": "code",
   "execution_count": null,
   "metadata": {},
   "outputs": [],
   "source": [
    "n_commits"
   ]
  },
  {
   "cell_type": "code",
   "execution_count": null,
   "metadata": {},
   "outputs": [],
   "source": [
    "#Overall, there were 719 commits that closed 240 issues, together with 105 pull requests across 12 packages since our last release on 2017-11-03.\n",
    "#('{0} Here is a really long '\n",
    "#           'sentence with {1}').format(3, 5))\n",
    "line = ('Overall, there were {n_commits} commits that closed {n_issues} issues,'  \n",
    "    ' together with {n_pulls} pull requests since our last release' \n",
    "        ' on {since_date}.\\n'.format(n_commits=n_commits, n_issues=n_issues,\n",
    "        n_pulls=n_pulls, since_date = start_date))"
   ]
  },
  {
   "cell_type": "code",
   "execution_count": null,
   "metadata": {},
   "outputs": [],
   "source": [
    "line"
   ]
  },
  {
   "cell_type": "markdown",
   "metadata": {},
   "source": [
    "## append html files to end of changes.md with tags for toc"
   ]
  },
  {
   "cell_type": "code",
   "execution_count": null,
   "metadata": {},
   "outputs": [],
   "source": [
    "with open('changes.md', 'w') as fout:\n",
    "    fout.write(line)\n",
    "    fout.write(\"\\n\".join(lines))\n",
    "    fout.write(get_tag(\"Summary Statistics\"))\n",
    "    \n",
    "    with open('commit_table.html') as table:\n",
    "        table_lines = table.readlines()\n",
    "        title = \"Package Activity\"\n",
    "        fout.write(get_tag(title,\"###\"))\n",
    "        fout.write(\"\\n\")\n",
    "        fout.write(\"\".join(table_lines))\n",
    "                \n",
    "    with open('commits_by_person.html') as table:\n",
    "        table_lines = table.readlines()\n",
    "        title = \"Contributor Activity\"\n",
    "        fout.write(get_tag(title,\"###\"))\n",
    "        fout.write(\"\\n\")\n",
    "        fout.write(\"\".join(table_lines))\n",
    "        \n",
    "    with open('contributor_table.html') as table:\n",
    "        table_lines = table.readlines()\n",
    "        title = \"Contributor by Package Activity\"\n",
    "        fout.write(get_tag(title,\"###\"))\n",
    "        fout.write(\"\\n\")\n",
    "        fout.write(\"\".join(table_lines))"
   ]
  },
  {
   "cell_type": "code",
   "execution_count": null,
   "metadata": {},
   "outputs": [],
   "source": []
  },
  {
   "cell_type": "code",
   "execution_count": null,
   "metadata": {},
   "outputs": [],
   "source": []
  }
 ],
 "metadata": {
  "kernelspec": {
   "display_name": "Python 3",
   "language": "python",
   "name": "python3"
  },
  "language_info": {
   "codemirror_mode": {
    "name": "ipython",
    "version": 3
   },
   "file_extension": ".py",
   "mimetype": "text/x-python",
   "name": "python",
   "nbconvert_exporter": "python",
   "pygments_lexer": "ipython3",
   "version": "3.8.5"
  }
 },
 "nbformat": 4,
 "nbformat_minor": 4
}
