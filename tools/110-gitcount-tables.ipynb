{
 "cells": [
  {
   "cell_type": "markdown",
   "metadata": {},
   "source": [
    "## PySAL Change Log Statistics: Table Generation\n",
    "\n",
    "This notebook generates the summary statistics for use in the 6-month releases of PySAL, which is now a meta package. \n",
    "\n",
    "It assumes the subpackages have been git cloned in a directory below the location of this notebook. It also requires network connectivity for some of the reporting.\n",
    "\n",
    "Run this notebook after `100-gitcount.ipynb`\n"
   ]
  },
  {
   "cell_type": "code",
   "execution_count": 1,
   "metadata": {},
   "outputs": [],
   "source": [
    "from __future__ import print_function\n",
    "import os\n",
    "import json\n",
    "import re\n",
    "import sys\n",
    "import pandas\n",
    "import subprocess\n",
    "from subprocess import check_output\n",
    "\n",
    "#import yaml\n",
    "from datetime import datetime, timedelta\n",
    "\n",
    "from dateutil.parser import parse\n",
    "import pytz\n",
    "\n",
    "utc=pytz.UTC\n",
    "\n",
    "try:\n",
    "    from urllib import urlopen\n",
    "except:\n",
    "    from urllib.request import urlopen\n",
    "\n",
    "\n"
   ]
  },
  {
   "cell_type": "code",
   "execution_count": 2,
   "metadata": {},
   "outputs": [],
   "source": [
    "PYSAL_RELEASE = '2021-01-17'\n",
    "release_date = datetime.strptime(PYSAL_RELEASE+\" 0:0:0\", \"%Y-%m-%d %H:%M:%S\")"
   ]
  },
  {
   "cell_type": "code",
   "execution_count": 3,
   "metadata": {},
   "outputs": [
    {
     "data": {
      "text/plain": [
       "datetime.datetime(2021, 1, 17, 0, 0)"
      ]
     },
     "execution_count": 3,
     "metadata": {},
     "output_type": "execute_result"
    }
   ],
   "source": [
    "release_date"
   ]
  },
  {
   "cell_type": "code",
   "execution_count": 4,
   "metadata": {},
   "outputs": [],
   "source": [
    "CWD = os.path.abspath(os.path.curdir)"
   ]
  },
  {
   "cell_type": "code",
   "execution_count": 5,
   "metadata": {},
   "outputs": [
    {
     "data": {
      "text/plain": [
       "'/home/serge/projects/pysal/tools'"
      ]
     },
     "execution_count": 5,
     "metadata": {},
     "output_type": "execute_result"
    }
   ],
   "source": [
    "CWD"
   ]
  },
  {
   "cell_type": "code",
   "execution_count": 6,
   "metadata": {},
   "outputs": [
    {
     "data": {
      "text/plain": [
       "datetime.datetime(2020, 2, 9, 0, 0)"
      ]
     },
     "execution_count": 6,
     "metadata": {},
     "output_type": "execute_result"
    }
   ],
   "source": [
    "start_date = '2020-02-09'\n",
    "since_date = '--since=\"{start}\"'.format(start=start_date)\n",
    "since_date\n",
    "since = datetime.strptime(start_date+\" 0:0:0\", \"%Y-%m-%d %H:%M:%S\")\n",
    "since"
   ]
  },
  {
   "cell_type": "code",
   "execution_count": 7,
   "metadata": {},
   "outputs": [],
   "source": [
    "with open('frozen.txt', 'r') as package_list:\n",
    "    packages = package_list.readlines()\n",
    "    packages = dict([package.strip().split(\">=\") for package in packages])"
   ]
  },
  {
   "cell_type": "code",
   "execution_count": 8,
   "metadata": {},
   "outputs": [
    {
     "data": {
      "text/plain": [
       "{'libpysal': '4.3.5',\n",
       " 'access': '1.1.1',\n",
       " 'esda': '2.3.5',\n",
       " 'giddy': '2.3.3',\n",
       " 'inequality': '1.0.0',\n",
       " 'pointpats': '2.2.0',\n",
       " 'segregation': '1.5.0',\n",
       " 'spaghetti': '1.5.6',\n",
       " 'mgwr': '2.1.2',\n",
       " 'spglm': '1.0.8',\n",
       " 'spint': '1.0.7',\n",
       " 'spreg': '1.2.2',\n",
       " 'spvcm': '0.3.0',\n",
       " 'tobler': '0.5.4',\n",
       " 'mapclassify': '2.4.2',\n",
       " 'splot': '.1.1.3',\n",
       " 'spopt': '0.0.5'}"
      ]
     },
     "execution_count": 8,
     "metadata": {},
     "output_type": "execute_result"
    }
   ],
   "source": [
    "packages"
   ]
  },
  {
   "cell_type": "code",
   "execution_count": 9,
   "metadata": {},
   "outputs": [],
   "source": [
    "import pickle"
   ]
  },
  {
   "cell_type": "code",
   "execution_count": 10,
   "metadata": {},
   "outputs": [],
   "source": [
    "issues_closed = pickle.load(open(\"issues_closed.p\", 'rb'))\n",
    "pulls_closed = pickle.load(open('pulls_closed.p', 'rb'))"
   ]
  },
  {
   "cell_type": "code",
   "execution_count": 11,
   "metadata": {},
   "outputs": [
    {
     "data": {
      "text/plain": [
       "dict"
      ]
     },
     "execution_count": 11,
     "metadata": {},
     "output_type": "execute_result"
    }
   ],
   "source": [
    "type(issues_closed)"
   ]
  },
  {
   "cell_type": "code",
   "execution_count": 12,
   "metadata": {},
   "outputs": [
    {
     "data": {
      "text/plain": [
       "dict_keys(['libpysal', 'access', 'esda', 'giddy', 'inequality', 'pointpats', 'segregation', 'spaghetti', 'mgwr', 'spglm', 'spint', 'spreg', 'spvcm', 'tobler', 'mapclassify', 'splot', 'spopt'])"
      ]
     },
     "execution_count": 12,
     "metadata": {},
     "output_type": "execute_result"
    }
   ],
   "source": [
    "issues_closed.keys()"
   ]
  },
  {
   "cell_type": "code",
   "execution_count": 13,
   "metadata": {},
   "outputs": [],
   "source": [
    "from release_info import get_pypi_info, get_github_info, clone_masters"
   ]
  },
  {
   "cell_type": "code",
   "execution_count": 14,
   "metadata": {},
   "outputs": [
    {
     "name": "stdout",
     "output_type": "stream",
     "text": [
      "https://api.github.com/repos/pysal/libpysal/releases/latest\n",
      "https://api.github.com/repos/pysal/access/releases/latest\n",
      "https://api.github.com/repos/pysal/esda/releases/latest\n",
      "https://api.github.com/repos/pysal/giddy/releases/latest\n",
      "https://api.github.com/repos/pysal/inequality/releases/latest\n",
      "https://api.github.com/repos/pysal/pointpats/releases/latest\n",
      "https://api.github.com/repos/pysal/segregation/releases/latest\n",
      "https://api.github.com/repos/pysal/spaghetti/releases/latest\n",
      "https://api.github.com/repos/pysal/mgwr/releases/latest\n",
      "https://api.github.com/repos/pysal/spglm/releases/latest\n",
      "https://api.github.com/repos/pysal/spint/releases/latest\n",
      "https://api.github.com/repos/pysal/spreg/releases/latest\n",
      "https://api.github.com/repos/pysal/spvcm/releases/latest\n",
      "https://api.github.com/repos/pysal/tobler/releases/latest\n",
      "https://api.github.com/repos/pysal/mapclassify/releases/latest\n",
      "https://api.github.com/repos/pysal/splot/releases/latest\n",
      "https://api.github.com/repos/pysal/spopt/releases/latest\n"
     ]
    }
   ],
   "source": [
    "github_releases = get_github_info()"
   ]
  },
  {
   "cell_type": "code",
   "execution_count": 15,
   "metadata": {},
   "outputs": [],
   "source": [
    "pypi_releases = get_pypi_info()"
   ]
  },
  {
   "cell_type": "code",
   "execution_count": 16,
   "metadata": {},
   "outputs": [],
   "source": [
    "from datetime import datetime"
   ]
  },
  {
   "cell_type": "code",
   "execution_count": 18,
   "metadata": {},
   "outputs": [],
   "source": [
    "pysal_date = datetime.strptime('2021-01-17T12:00:00Z', '%Y-%m-%dT%H:%M:%SZ')\n",
    "#ISO8601 = \"%Y-%m-%dT%H:%M:%SZ\"\n"
   ]
  },
  {
   "cell_type": "code",
   "execution_count": 19,
   "metadata": {},
   "outputs": [],
   "source": [
    "pysal_rel = {'version': 'v2.4.0rc1',\n",
    "            'release_date': pysal_date}\n",
    "github_releases['pysal'] = pysal_rel"
   ]
  },
  {
   "cell_type": "code",
   "execution_count": 20,
   "metadata": {},
   "outputs": [
    {
     "data": {
      "text/plain": [
       "{'libpysal': {'version': 'v4.3.5',\n",
       "  'url': 'https://api.github.com/repos/pysal/libpysal/tarball/v4.3.5',\n",
       "  'release_date': datetime.datetime(2021, 1, 17, 4, 6, 18)},\n",
       " 'access': {'version': 'v1.1.1',\n",
       "  'url': 'https://api.github.com/repos/pysal/access/tarball/v1.1.1',\n",
       "  'release_date': datetime.datetime(2020, 7, 12, 17, 23, 50)},\n",
       " 'esda': {'version': 'v2.3.5',\n",
       "  'url': 'https://api.github.com/repos/pysal/esda/tarball/v2.3.5',\n",
       "  'release_date': datetime.datetime(2020, 12, 30, 3, 18, 36)},\n",
       " 'giddy': {'version': 'v2.3.3',\n",
       "  'url': 'https://api.github.com/repos/pysal/giddy/tarball/v2.3.3',\n",
       "  'release_date': datetime.datetime(2020, 6, 10, 4, 59, 45)},\n",
       " 'inequality': {'version': 'v1.0.0',\n",
       "  'url': 'https://api.github.com/repos/pysal/inequality/tarball/v1.0.0',\n",
       "  'release_date': datetime.datetime(2018, 10, 31, 22, 28, 18)},\n",
       " 'pointpats': {'version': 'v2.2.0',\n",
       "  'url': 'https://api.github.com/repos/pysal/pointpats/tarball/v2.2.0',\n",
       "  'release_date': datetime.datetime(2020, 7, 27, 22, 17, 33)},\n",
       " 'segregation': {'version': 'v1.5.0',\n",
       "  'url': 'https://api.github.com/repos/pysal/segregation/tarball/v1.5.0',\n",
       "  'release_date': datetime.datetime(2020, 12, 30, 3, 31, 1)},\n",
       " 'spaghetti': {'version': 'v1.5.6',\n",
       "  'url': 'https://api.github.com/repos/pysal/spaghetti/tarball/v1.5.6',\n",
       "  'release_date': datetime.datetime(2021, 1, 4, 20, 50, 6)},\n",
       " 'mgwr': {'version': 'v2.1.2',\n",
       "  'url': 'https://api.github.com/repos/pysal/mgwr/tarball/v2.1.2',\n",
       "  'release_date': datetime.datetime(2020, 9, 8, 21, 20, 34)},\n",
       " 'spglm': {'version': 'v1.0.8',\n",
       "  'url': 'https://api.github.com/repos/pysal/spglm/tarball/v1.0.8',\n",
       "  'release_date': datetime.datetime(2020, 9, 8, 20, 34, 8)},\n",
       " 'spint': {'version': 'v1.0.7',\n",
       "  'url': 'https://api.github.com/repos/pysal/spint/tarball/v1.0.7',\n",
       "  'release_date': datetime.datetime(2020, 9, 9, 2, 28, 50)},\n",
       " 'spreg': {'version': 'v1.2.2',\n",
       "  'url': 'https://api.github.com/repos/pysal/spreg/tarball/v1.2.2',\n",
       "  'release_date': datetime.datetime(2021, 1, 15, 19, 15, 15)},\n",
       " 'spvcm': {'version': 'v0.3.0',\n",
       "  'url': 'https://api.github.com/repos/pysal/spvcm/tarball/v0.3.0',\n",
       "  'release_date': datetime.datetime(2020, 2, 2, 19, 42, 39)},\n",
       " 'tobler': {'version': 'v0.5.4',\n",
       "  'url': 'https://api.github.com/repos/pysal/tobler/tarball/v0.5.4',\n",
       "  'release_date': datetime.datetime(2020, 12, 22, 18, 14, 45)},\n",
       " 'mapclassify': {'version': 'v2.4.2',\n",
       "  'url': 'https://api.github.com/repos/pysal/mapclassify/tarball/v2.4.2',\n",
       "  'release_date': datetime.datetime(2020, 12, 22, 23, 35, 40)},\n",
       " 'splot': {'version': 'v.1.1.3',\n",
       "  'url': 'https://api.github.com/repos/pysal/splot/tarball/v.1.1.3',\n",
       "  'release_date': datetime.datetime(2020, 3, 23, 11, 53, 30)},\n",
       " 'spopt': {'version': 'v0.0.5',\n",
       "  'url': 'https://api.github.com/repos/pysal/spopt/tarball/v0.0.5',\n",
       "  'release_date': datetime.datetime(2021, 1, 17, 18, 44, 46)},\n",
       " 'pysal': {'version': 'v2.4.0rc1',\n",
       "  'release_date': datetime.datetime(2021, 1, 17, 12, 0)}}"
      ]
     },
     "execution_count": 20,
     "metadata": {},
     "output_type": "execute_result"
    }
   ],
   "source": [
    "github_releases"
   ]
  },
  {
   "cell_type": "code",
   "execution_count": 22,
   "metadata": {},
   "outputs": [
    {
     "name": "stdout",
     "output_type": "stream",
     "text": [
      "libpysal 2021-01-17 04:06:18 100 99 0 0\n",
      "access 2020-07-12 17:23:50 15 6 7 5\n",
      "esda 2020-12-30 03:18:36 44 43 27 26\n",
      "giddy 2020-06-10 04:59:45 34 28 0 0\n",
      "inequality 2018-10-31 22:28:18 0 0 0 0\n",
      "pointpats 2020-07-27 22:17:33 11 9 8 7\n",
      "segregation 2020-12-30 03:31:01 20 18 0 0\n",
      "spaghetti 2021-01-04 20:50:06 100 96 0 0\n",
      "mgwr 2020-09-08 21:20:34 6 5 4 4\n",
      "spglm 2020-09-08 20:34:08 4 4 3 3\n",
      "spint 2020-09-09 02:28:50 5 2 3 2\n",
      "spreg 2021-01-15 19:15:15 33 32 17 17\n",
      "spvcm 2020-02-02 19:42:39 0 0 0 0\n",
      "tobler 2020-12-22 18:14:45 68 54 45 34\n",
      "mapclassify 2020-12-22 23:35:40 52 52 30 30\n",
      "splot 2020-03-23 11:53:30 22 4 13 4\n",
      "spopt 2021-01-17 18:44:46 100 98 62 62\n"
     ]
    }
   ],
   "source": [
    "from datetime import datetime\n",
    "datetime.fromtimestamp(0)\n",
    "ISO8601 = \"%Y-%m-%dT%H:%M:%SZ\"\n",
    "\n",
    "\n",
    "final_pulls = {}\n",
    "final_issues = {}\n",
    "for package in packages:\n",
    "    filtered_issues = []\n",
    "    filtered_pulls = []\n",
    "    released = github_releases[package]['release_date']\n",
    "    package_pulls = pulls_closed[package]\n",
    "    package_issues = issues_closed[package]\n",
    "    for issue in package_issues:\n",
    "        #print(issue['number'], issue['title'], issue['closed_at'])\n",
    "        closed = datetime.strptime(issue['closed_at'], ISO8601)\n",
    "        if closed <= released:\n",
    "            filtered_issues.append(issue)\n",
    "    final_issues[package] = filtered_issues\n",
    "    for pull in package_pulls:\n",
    "        #print(pull['number'], pull['title'], pull['closed_at'])\n",
    "        closed = datetime.strptime(pull['closed_at'], ISO8601)\n",
    "        if closed <= released:\n",
    "            filtered_pulls.append(pull)\n",
    "    final_pulls[package] = filtered_pulls\n",
    "    print(package, released, len(package_issues), len(filtered_issues), len(package_pulls),\n",
    "         len(filtered_pulls))"
   ]
  },
  {
   "cell_type": "code",
   "execution_count": 23,
   "metadata": {},
   "outputs": [],
   "source": [
    "issue_details = final_issues\n",
    "pull_details = final_pulls"
   ]
  },
  {
   "cell_type": "code",
   "execution_count": 24,
   "metadata": {},
   "outputs": [
    {
     "data": {
      "text/plain": [
       "{'libpysal': '4.3.5',\n",
       " 'access': '1.1.1',\n",
       " 'esda': '2.3.5',\n",
       " 'giddy': '2.3.3',\n",
       " 'inequality': '1.0.0',\n",
       " 'pointpats': '2.2.0',\n",
       " 'segregation': '1.5.0',\n",
       " 'spaghetti': '1.5.6',\n",
       " 'mgwr': '2.1.2',\n",
       " 'spglm': '1.0.8',\n",
       " 'spint': '1.0.7',\n",
       " 'spreg': '1.2.2',\n",
       " 'spvcm': '0.3.0',\n",
       " 'tobler': '0.5.4',\n",
       " 'mapclassify': '2.4.2',\n",
       " 'splot': '.1.1.3',\n",
       " 'spopt': '0.0.5'}"
      ]
     },
     "execution_count": 24,
     "metadata": {},
     "output_type": "execute_result"
    }
   ],
   "source": [
    "packages"
   ]
  },
  {
   "cell_type": "code",
   "execution_count": 25,
   "metadata": {},
   "outputs": [],
   "source": [
    "github_releases['pysal']['release_date'] = release_date"
   ]
  },
  {
   "cell_type": "code",
   "execution_count": 26,
   "metadata": {},
   "outputs": [
    {
     "data": {
      "text/plain": [
       "datetime.datetime(2021, 1, 17, 18, 44, 46)"
      ]
     },
     "execution_count": 26,
     "metadata": {},
     "output_type": "execute_result"
    }
   ],
   "source": [
    "released"
   ]
  },
  {
   "cell_type": "code",
   "execution_count": 27,
   "metadata": {},
   "outputs": [
    {
     "name": "stdout",
     "output_type": "stream",
     "text": [
      "libpysal 352 352 2021-01-17\n",
      "access 137 77 2020-07-12\n",
      "esda 181 181 2020-12-30\n",
      "giddy 111 103 2020-06-10\n",
      "inequality 0 0 2018-10-31\n",
      "pointpats 100 99 2020-07-27\n",
      "segregation 62 59 2020-12-30\n",
      "spaghetti 562 558 2021-01-04\n",
      "mgwr 13 13 2020-09-08\n",
      "spglm 6 6 2020-09-08\n",
      "spint 14 11 2020-09-09\n",
      "spreg 182 182 2021-01-15\n",
      "spvcm 0 0 2020-02-02\n",
      "tobler 207 125 2020-12-22\n",
      "mapclassify 175 175 2020-12-22\n",
      "splot 30 14 2020-03-23\n",
      "spopt 276 276 2021-01-17\n"
     ]
    }
   ],
   "source": [
    "# commits\n",
    "cmd = ['git', 'log', '--oneline', since_date]\n",
    "\n",
    "activity = {}\n",
    "total_commits = 0\n",
    "tag_dates = {}\n",
    "for subpackage in packages:\n",
    "    released = github_releases[subpackage]['release_date']\n",
    "    tag_date = released.strftime(\"%Y-%m-%d\")\n",
    "    tag_dates[subpackage] = tag_date\n",
    "    #print(tag_date)\n",
    "    #tag_date = tag_dates[subpackage]\n",
    "    os.chdir(CWD)\n",
    "    os.chdir('tmp/{subpackage}'.format(subpackage=subpackage))\n",
    "    cmd_until = cmd + ['--until=\"{tag_date}\"'.format(tag_date=tag_date)]\n",
    "    ncommits = len(check_output(cmd_until).splitlines())\n",
    "    ncommits_total = len(check_output(cmd).splitlines())\n",
    "    print(subpackage, ncommits_total, ncommits, tag_date)\n",
    "    total_commits += ncommits\n",
    "    activity[subpackage] = ncommits"
   ]
  },
  {
   "cell_type": "code",
   "execution_count": null,
   "metadata": {},
   "outputs": [],
   "source": []
  },
  {
   "cell_type": "code",
   "execution_count": 28,
   "metadata": {},
   "outputs": [
    {
     "data": {
      "text/plain": [
       "'/home/serge/projects/pysal/tools'"
      ]
     },
     "execution_count": 28,
     "metadata": {},
     "output_type": "execute_result"
    }
   ],
   "source": [
    "CWD"
   ]
  },
  {
   "cell_type": "code",
   "execution_count": 29,
   "metadata": {},
   "outputs": [
    {
     "name": "stdout",
     "output_type": "stream",
     "text": [
      "libpysal 352 352 2021-01-17\n",
      "access 137 77 2020-07-12\n",
      "esda 181 181 2020-12-30\n",
      "giddy 111 103 2020-06-10\n",
      "inequality 0 0 2018-10-31\n",
      "pointpats 100 99 2020-07-27\n",
      "segregation 62 59 2020-12-30\n",
      "spaghetti 562 558 2021-01-04\n",
      "mgwr 13 13 2020-09-08\n",
      "spglm 6 6 2020-09-08\n",
      "spint 14 11 2020-09-09\n",
      "spreg 182 182 2021-01-15\n",
      "spvcm 0 0 2020-02-02\n",
      "tobler 207 125 2020-12-22\n",
      "mapclassify 175 175 2020-12-22\n",
      "splot 30 14 2020-03-23\n",
      "spopt 276 276 2021-01-17\n"
     ]
    }
   ],
   "source": [
    "# commits\n",
    "cmd = ['git', 'log', '--oneline', since_date]\n",
    "\n",
    "activity = {}\n",
    "total_commits = 0\n",
    "for subpackage in packages:\n",
    "    tag_date = tag_dates[subpackage]\n",
    "    os.chdir(CWD)\n",
    "    os.chdir('tmp/{subpackage}'.format(subpackage=subpackage))\n",
    "    cmd_until = cmd + ['--until=\"{tag_date}\"'.format(tag_date=tag_date)]\n",
    "    ncommits = len(check_output(cmd_until).splitlines())\n",
    "    ncommits_total = len(check_output(cmd).splitlines())\n",
    "    print(subpackage, ncommits_total, ncommits, tag_date)\n",
    "    total_commits += ncommits\n",
    "    activity[subpackage] = ncommits"
   ]
  },
  {
   "cell_type": "code",
   "execution_count": 30,
   "metadata": {},
   "outputs": [
    {
     "data": {
      "text/plain": [
       "['git', 'log', '--oneline', '--since=\"2020-02-09\"', '--until=\"2021-01-17\"']"
      ]
     },
     "execution_count": 30,
     "metadata": {},
     "output_type": "execute_result"
    }
   ],
   "source": [
    "cmd_until"
   ]
  },
  {
   "cell_type": "code",
   "execution_count": 31,
   "metadata": {},
   "outputs": [],
   "source": [
    "identities = {'Levi John Wolf': ('ljwolf', 'Levi John Wolf'),\n",
    "              'Serge Rey': ('Serge Rey', 'Sergio Rey', 'sjsrey', 'serge'),\n",
    "              'Wei Kang': ('Wei Kang', 'weikang9009'),\n",
    "              'Dani Arribas-Bel': ('Dani Arribas-Bel', 'darribas'),\n",
    "              'Antti Härkönen': ( 'antth', 'Antti Härkönen', 'Antti Härkönen', 'Antth'  ),\n",
    "              'Juan C Duque': ('Juan C Duque', \"Juan Duque\"),\n",
    "              'Renan Xavier Cortes': ('Renan Xavier Cortes', 'renanxcortes', 'Renan Xavier Cortes'   ),\n",
    "              'Taylor Oshan': ('Tayloroshan', 'Taylor Oshan', 'TaylorOshan'),\n",
    "              'Tom Gertin': ('@Tomgertin', 'Tom Gertin', '@tomgertin')\n",
    "}\n",
    "\n",
    "def regularize_identity(string):\n",
    "    string = string.decode()\n",
    "    for name, aliases in identities.items():\n",
    "        for alias in aliases:\n",
    "            if alias in string:\n",
    "                string = string.replace(alias, name)\n",
    "    if len(string.split(' '))>1:\n",
    "        string = string.title()\n",
    "    return string.lstrip('* ')"
   ]
  },
  {
   "cell_type": "code",
   "execution_count": 32,
   "metadata": {},
   "outputs": [],
   "source": [
    "author_cmd = ['git', 'log', '--format=* %aN', since_date]"
   ]
  },
  {
   "cell_type": "code",
   "execution_count": 33,
   "metadata": {},
   "outputs": [],
   "source": [
    "author_cmd.append('blank')"
   ]
  },
  {
   "cell_type": "code",
   "execution_count": 34,
   "metadata": {},
   "outputs": [
    {
     "data": {
      "text/plain": [
       "['git', 'log', '--format=* %aN', '--since=\"2020-02-09\"', 'blank']"
      ]
     },
     "execution_count": 34,
     "metadata": {},
     "output_type": "execute_result"
    }
   ],
   "source": [
    "author_cmd"
   ]
  },
  {
   "cell_type": "code",
   "execution_count": 35,
   "metadata": {},
   "outputs": [],
   "source": [
    "from collections import Counter"
   ]
  },
  {
   "cell_type": "code",
   "execution_count": 36,
   "metadata": {},
   "outputs": [
    {
     "data": {
      "text/plain": [
       "{'libpysal': '2021-01-17',\n",
       " 'access': '2020-07-12',\n",
       " 'esda': '2020-12-30',\n",
       " 'giddy': '2020-06-10',\n",
       " 'inequality': '2018-10-31',\n",
       " 'pointpats': '2020-07-27',\n",
       " 'segregation': '2020-12-30',\n",
       " 'spaghetti': '2021-01-04',\n",
       " 'mgwr': '2020-09-08',\n",
       " 'spglm': '2020-09-08',\n",
       " 'spint': '2020-09-09',\n",
       " 'spreg': '2021-01-15',\n",
       " 'spvcm': '2020-02-02',\n",
       " 'tobler': '2020-12-22',\n",
       " 'mapclassify': '2020-12-22',\n",
       " 'splot': '2020-03-23',\n",
       " 'spopt': '2021-01-17'}"
      ]
     },
     "execution_count": 36,
     "metadata": {},
     "output_type": "execute_result"
    }
   ],
   "source": [
    "tag_dates"
   ]
  },
  {
   "cell_type": "code",
   "execution_count": 37,
   "metadata": {},
   "outputs": [
    {
     "name": "stdout",
     "output_type": "stream",
     "text": [
      "['git', 'log', '--format=* %aN', '--since=\"2020-02-09\"', '--until=\"2021-01-18\"']\n",
      "['git', 'log', '--format=* %aN', '--since=\"2020-02-09\"', '--until=\"2020-07-13\"']\n",
      "['git', 'log', '--format=* %aN', '--since=\"2020-02-09\"', '--until=\"2020-12-31\"']\n",
      "['git', 'log', '--format=* %aN', '--since=\"2020-02-09\"', '--until=\"2020-06-11\"']\n",
      "['git', 'log', '--format=* %aN', '--since=\"2020-02-09\"', '--until=\"2018-11-01\"']\n",
      "['git', 'log', '--format=* %aN', '--since=\"2020-02-09\"', '--until=\"2020-07-28\"']\n",
      "['git', 'log', '--format=* %aN', '--since=\"2020-02-09\"', '--until=\"2020-12-31\"']\n",
      "['git', 'log', '--format=* %aN', '--since=\"2020-02-09\"', '--until=\"2021-01-05\"']\n",
      "['git', 'log', '--format=* %aN', '--since=\"2020-02-09\"', '--until=\"2020-09-09\"']\n",
      "['git', 'log', '--format=* %aN', '--since=\"2020-02-09\"', '--until=\"2020-09-09\"']\n",
      "['git', 'log', '--format=* %aN', '--since=\"2020-02-09\"', '--until=\"2020-09-10\"']\n",
      "['git', 'log', '--format=* %aN', '--since=\"2020-02-09\"', '--until=\"2021-01-16\"']\n",
      "['git', 'log', '--format=* %aN', '--since=\"2020-02-09\"', '--until=\"2020-02-03\"']\n",
      "['git', 'log', '--format=* %aN', '--since=\"2020-02-09\"', '--until=\"2020-12-23\"']\n",
      "['git', 'log', '--format=* %aN', '--since=\"2020-02-09\"', '--until=\"2020-12-23\"']\n",
      "['git', 'log', '--format=* %aN', '--since=\"2020-02-09\"', '--until=\"2020-03-24\"']\n",
      "['git', 'log', '--format=* %aN', '--since=\"2020-02-09\"', '--until=\"2021-01-18\"']\n"
     ]
    }
   ],
   "source": [
    "authors_global = set()\n",
    "authors = {}\n",
    "global_counter = Counter()\n",
    "counters = dict()\n",
    "cmd = ['git', 'log', '--oneline', since_date]\n",
    "total_commits = 0\n",
    "activity = {}\n",
    "for subpackage in packages:\n",
    "    os.chdir(CWD)\n",
    "    os.chdir('tmp/{subpackage}'.format(subpackage=subpackage))\n",
    "    ncommits = len(check_output(cmd).splitlines())\n",
    "    tag_date = tag_dates[subpackage]\n",
    "    tag_date = (datetime.strptime(tag_date, '%Y-%m-%d') + timedelta(days=1)).strftime('%Y-%m-%d')\n",
    "    author_cmd[-1] = '--until=\"{tag_date}\"'.format(tag_date=tag_date)\n",
    "    #cmd_until = cmd + ['--until=\"{tag_date}\"'.format(tag_date=tag_date)]\n",
    "    print(author_cmd)\n",
    "\n",
    "\n",
    "    all_authors = check_output(author_cmd).splitlines()\n",
    "    counter = Counter([regularize_identity(author) for author in all_authors])\n",
    "    global_counter += counter\n",
    "    counters.update({subpackage: counter})\n",
    "    unique_authors = sorted(set(all_authors))\n",
    "    authors[subpackage] =  unique_authors\n",
    "    authors_global.update(unique_authors)\n",
    "    total_commits += ncommits\n",
    "    activity[subpackage] = ncommits"
   ]
  },
  {
   "cell_type": "code",
   "execution_count": 38,
   "metadata": {},
   "outputs": [
    {
     "data": {
      "text/plain": [
       "Counter({'James Gaboardi': 139,\n",
       "         'Serge Rey': 38,\n",
       "         'Eli Knaap': 33,\n",
       "         'Xin (Selena) Feng': 21,\n",
       "         'Xin Feng': 38,\n",
       "         'Serge': 1,\n",
       "         'Rwei5': 6})"
      ]
     },
     "execution_count": 38,
     "metadata": {},
     "output_type": "execute_result"
    }
   ],
   "source": [
    "counter"
   ]
  },
  {
   "cell_type": "code",
   "execution_count": 39,
   "metadata": {},
   "outputs": [
    {
     "data": {
      "text/plain": [
       "{b'* Arfon Smith',\n",
       " b'* Bryan Bennett',\n",
       " b'* Dani Arribas-Bel',\n",
       " b'* Elliott Sales de Andrade',\n",
       " b'* JCS Laptop',\n",
       " b'* James Gaboardi',\n",
       " b'* Jamie Saxon',\n",
       " b'* Jeffery Sauer',\n",
       " b'* Levi John Wolf',\n",
       " b'* Martin Fleischmann',\n",
       " b'* MgeeeeK',\n",
       " b'* Omar',\n",
       " b'* Pablo Estrada',\n",
       " b'* Pattyf',\n",
       " b'* Pedro Amaral',\n",
       " b'* Serge',\n",
       " b'* Serge Rey',\n",
       " b'* Sergio Rey',\n",
       " b'* Stefanie Lumnitz',\n",
       " b'* Sugam Srivastava',\n",
       " b'* Taylor Oshan',\n",
       " b'* Wagner',\n",
       " b'* Wei Kang',\n",
       " b'* Xin (Selena) Feng',\n",
       " b'* Xin Feng',\n",
       " b'* Ziqi Li',\n",
       " b'* dependabot[bot]',\n",
       " b'* eli knaap',\n",
       " b'* jkoschinsky',\n",
       " b'* knaaptime',\n",
       " b'* ljwolf',\n",
       " b'* pabloestradac',\n",
       " b'* pedrovma',\n",
       " b'* rwei5',\n",
       " b'* vidal-anguiano',\n",
       " b'* weikang9009'}"
      ]
     },
     "execution_count": 39,
     "metadata": {},
     "output_type": "execute_result"
    }
   ],
   "source": [
    "authors_global"
   ]
  },
  {
   "cell_type": "code",
   "execution_count": 40,
   "metadata": {},
   "outputs": [
    {
     "data": {
      "text/plain": [
       "{'libpysal': 352,\n",
       " 'access': 137,\n",
       " 'esda': 181,\n",
       " 'giddy': 111,\n",
       " 'inequality': 0,\n",
       " 'pointpats': 100,\n",
       " 'segregation': 62,\n",
       " 'spaghetti': 562,\n",
       " 'mgwr': 13,\n",
       " 'spglm': 6,\n",
       " 'spint': 14,\n",
       " 'spreg': 182,\n",
       " 'spvcm': 0,\n",
       " 'tobler': 207,\n",
       " 'mapclassify': 175,\n",
       " 'splot': 30,\n",
       " 'spopt': 276}"
      ]
     },
     "execution_count": 40,
     "metadata": {},
     "output_type": "execute_result"
    }
   ],
   "source": [
    "activity"
   ]
  },
  {
   "cell_type": "code",
   "execution_count": 41,
   "metadata": {},
   "outputs": [
    {
     "data": {
      "text/plain": [
       "{'libpysal': Counter({'Serge Rey': 115,\n",
       "          'James Gaboardi': 176,\n",
       "          'Serge': 4,\n",
       "          'Dependabot[Bot]': 15,\n",
       "          'Martin Fleischmann': 8,\n",
       "          'Stefanie Lumnitz': 1,\n",
       "          'Mgeeeek': 7,\n",
       "          'Elliott Sales De Andrade': 5,\n",
       "          'Dani Arribas-Bel': 1,\n",
       "          'Levi John Wolf': 16,\n",
       "          'Bryan Bennett': 1,\n",
       "          'Jeffery Sauer': 1,\n",
       "          'Wagner': 2}),\n",
       " 'access': Counter({'Jkoschinsky': 6,\n",
       "          'Jamie Saxon': 41,\n",
       "          'Vidal-Anguiano': 32}),\n",
       " 'esda': Counter({'James Gaboardi': 19,\n",
       "          'Dependabot[Bot]': 6,\n",
       "          'Serge Rey': 43,\n",
       "          'Serge': 9,\n",
       "          'Martin Fleischmann': 1,\n",
       "          'Levi John Wolf': 62,\n",
       "          'Wei Kang': 1,\n",
       "          'Dani Arribas-Bel': 38,\n",
       "          'Jeffery Sauer': 1,\n",
       "          'Eli Knaap': 1}),\n",
       " 'giddy': Counter({'Wei Kang': 102, 'Serge Rey': 1}),\n",
       " 'inequality': Counter(),\n",
       " 'pointpats': Counter({'Serge Rey': 16,\n",
       "          'Serge': 1,\n",
       "          'Levi John Wolf': 75,\n",
       "          'Wei Kang': 4,\n",
       "          'Sugam Srivastava': 4}),\n",
       " 'segregation': Counter({'Eli Knaap': 51,\n",
       "          'James Gaboardi': 6,\n",
       "          'Serge': 1,\n",
       "          'Serge Rey': 1,\n",
       "          'Knaaptime': 1}),\n",
       " 'spaghetti': Counter({'James Gaboardi': 527,\n",
       "          'Serge Rey': 3,\n",
       "          'Dependabot[Bot]': 24,\n",
       "          'Omar': 2,\n",
       "          'Stefanie Lumnitz': 2}),\n",
       " 'mgwr': Counter({'Taylor Oshan': 4, 'Wei Kang': 1, 'Ziqi Li': 8}),\n",
       " 'spglm': Counter({'Taylor Oshan': 4, 'Ziqi Li': 1, 'Wei Kang': 1}),\n",
       " 'spint': Counter({'Taylor Oshan': 11}),\n",
       " 'spreg': Counter({'James Gaboardi': 60,\n",
       "          'Pedro Amaral': 68,\n",
       "          'Pabloestradac': 14,\n",
       "          'Wei Kang': 2,\n",
       "          'Pablo Estrada': 23,\n",
       "          'Pedrovma': 9,\n",
       "          'Eli Knaap': 6}),\n",
       " 'spvcm': Counter(),\n",
       " 'tobler': Counter({'Eli Knaap': 100,\n",
       "          'Martin Fleischmann': 6,\n",
       "          'Dani Arribas-Bel': 2,\n",
       "          'Serge Rey': 10,\n",
       "          'James Gaboardi': 3,\n",
       "          'Serge': 8,\n",
       "          'Knaaptime': 4,\n",
       "          'Pattyf': 1}),\n",
       " 'mapclassify': Counter({'Serge Rey': 113,\n",
       "          'Martin Fleischmann': 13,\n",
       "          'Stefanie Lumnitz': 25,\n",
       "          'James Gaboardi': 21,\n",
       "          'Jcs Laptop': 1,\n",
       "          'Eli Knaap': 2}),\n",
       " 'splot': Counter({'Stefanie Lumnitz': 11,\n",
       "          'Arfon Smith': 1,\n",
       "          'James Gaboardi': 1,\n",
       "          'Levi John Wolf': 1}),\n",
       " 'spopt': Counter({'James Gaboardi': 139,\n",
       "          'Serge Rey': 38,\n",
       "          'Eli Knaap': 33,\n",
       "          'Xin (Selena) Feng': 21,\n",
       "          'Xin Feng': 38,\n",
       "          'Serge': 1,\n",
       "          'Rwei5': 6})}"
      ]
     },
     "execution_count": 41,
     "metadata": {},
     "output_type": "execute_result"
    }
   ],
   "source": [
    "counters"
   ]
  },
  {
   "cell_type": "code",
   "execution_count": 42,
   "metadata": {},
   "outputs": [
    {
     "data": {
      "text/plain": [
       "{'libpysal': Counter({'Serge Rey': 115,\n",
       "          'James Gaboardi': 176,\n",
       "          'Serge': 4,\n",
       "          'Dependabot[Bot]': 15,\n",
       "          'Martin Fleischmann': 8,\n",
       "          'Stefanie Lumnitz': 1,\n",
       "          'Mgeeeek': 7,\n",
       "          'Elliott Sales De Andrade': 5,\n",
       "          'Dani Arribas-Bel': 1,\n",
       "          'Levi John Wolf': 16,\n",
       "          'Bryan Bennett': 1,\n",
       "          'Jeffery Sauer': 1,\n",
       "          'Wagner': 2}),\n",
       " 'access': Counter({'Jkoschinsky': 6,\n",
       "          'Jamie Saxon': 41,\n",
       "          'Vidal-Anguiano': 32}),\n",
       " 'esda': Counter({'James Gaboardi': 19,\n",
       "          'Dependabot[Bot]': 6,\n",
       "          'Serge Rey': 43,\n",
       "          'Serge': 9,\n",
       "          'Martin Fleischmann': 1,\n",
       "          'Levi John Wolf': 62,\n",
       "          'Wei Kang': 1,\n",
       "          'Dani Arribas-Bel': 38,\n",
       "          'Jeffery Sauer': 1,\n",
       "          'Eli Knaap': 1}),\n",
       " 'giddy': Counter({'Wei Kang': 102, 'Serge Rey': 1}),\n",
       " 'inequality': Counter(),\n",
       " 'pointpats': Counter({'Serge Rey': 16,\n",
       "          'Serge': 1,\n",
       "          'Levi John Wolf': 75,\n",
       "          'Wei Kang': 4,\n",
       "          'Sugam Srivastava': 4}),\n",
       " 'segregation': Counter({'Eli Knaap': 51,\n",
       "          'James Gaboardi': 6,\n",
       "          'Serge': 1,\n",
       "          'Serge Rey': 1,\n",
       "          'Knaaptime': 1}),\n",
       " 'spaghetti': Counter({'James Gaboardi': 527,\n",
       "          'Serge Rey': 3,\n",
       "          'Dependabot[Bot]': 24,\n",
       "          'Omar': 2,\n",
       "          'Stefanie Lumnitz': 2}),\n",
       " 'mgwr': Counter({'Taylor Oshan': 4, 'Wei Kang': 1, 'Ziqi Li': 8}),\n",
       " 'spglm': Counter({'Taylor Oshan': 4, 'Ziqi Li': 1, 'Wei Kang': 1}),\n",
       " 'spint': Counter({'Taylor Oshan': 11}),\n",
       " 'spreg': Counter({'James Gaboardi': 60,\n",
       "          'Pedro Amaral': 68,\n",
       "          'Pabloestradac': 14,\n",
       "          'Wei Kang': 2,\n",
       "          'Pablo Estrada': 23,\n",
       "          'Pedrovma': 9,\n",
       "          'Eli Knaap': 6}),\n",
       " 'spvcm': Counter(),\n",
       " 'tobler': Counter({'Eli Knaap': 100,\n",
       "          'Martin Fleischmann': 6,\n",
       "          'Dani Arribas-Bel': 2,\n",
       "          'Serge Rey': 10,\n",
       "          'James Gaboardi': 3,\n",
       "          'Serge': 8,\n",
       "          'Knaaptime': 4,\n",
       "          'Pattyf': 1}),\n",
       " 'mapclassify': Counter({'Serge Rey': 113,\n",
       "          'Martin Fleischmann': 13,\n",
       "          'Stefanie Lumnitz': 25,\n",
       "          'James Gaboardi': 21,\n",
       "          'Jcs Laptop': 1,\n",
       "          'Eli Knaap': 2}),\n",
       " 'splot': Counter({'Stefanie Lumnitz': 11,\n",
       "          'Arfon Smith': 1,\n",
       "          'James Gaboardi': 1,\n",
       "          'Levi John Wolf': 1}),\n",
       " 'spopt': Counter({'James Gaboardi': 139,\n",
       "          'Serge Rey': 38,\n",
       "          'Eli Knaap': 33,\n",
       "          'Xin (Selena) Feng': 21,\n",
       "          'Xin Feng': 38,\n",
       "          'Serge': 1,\n",
       "          'Rwei5': 6})}"
      ]
     },
     "execution_count": 42,
     "metadata": {},
     "output_type": "execute_result"
    }
   ],
   "source": [
    "counters"
   ]
  },
  {
   "cell_type": "code",
   "execution_count": 43,
   "metadata": {},
   "outputs": [],
   "source": [
    "def get_tag(title, level=\"##\", as_string=True):\n",
    "    words = title.split()\n",
    "    tag = \"-\".join([word.lower() for word in words])\n",
    "    heading = level+\" \"+title\n",
    "    line = \"\\n\\n<a name=\\\"{}\\\"></a>\".format(tag)\n",
    "    lines = [line]\n",
    "    lines.append(heading)\n",
    "    if as_string:\n",
    "        return \"\\n\".join(lines)\n",
    "    else:\n",
    "        return lines"
   ]
  },
  {
   "cell_type": "code",
   "execution_count": 44,
   "metadata": {},
   "outputs": [],
   "source": [
    "subs = issue_details.keys()\n",
    "table = []\n",
    "txt = []\n",
    "lines = get_tag(\"Changes by Package\", as_string=False)\n",
    "\n",
    "for sub in subs:\n",
    "    total= issue_details[sub]\n",
    "    pr = pull_details[sub]\n",
    "    \n",
    "    row = [sub, activity[sub], len(total), len(pr)]\n",
    "    table.append(row)\n",
    "    #line = \"\\n<a name=\\\"{sub}\\\"></a>\".format(sub=sub)\n",
    "    #lines.append(line)\n",
    "    #line = \"### {sub}\".format(sub=sub)\n",
    "    #lines.append(line)\n",
    "    lines.extend(get_tag(sub.lower(), \"###\", as_string=False))\n",
    "    for issue in total:\n",
    "        url = issue['html_url']\n",
    "        title = issue['title']\n",
    "        number = issue['number']\n",
    "        line = \"* [#{number}:]({url}) {title} \".format(title=title,\n",
    "                                                     number=number,\n",
    "                                                     url=url)\n",
    "        lines.append(line)\n",
    "\n"
   ]
  },
  {
   "cell_type": "code",
   "execution_count": 45,
   "metadata": {},
   "outputs": [
    {
     "data": {
      "text/plain": [
       "[['libpysal', 352, 99, 0],\n",
       " ['access', 137, 6, 5],\n",
       " ['esda', 181, 43, 26],\n",
       " ['giddy', 111, 28, 0],\n",
       " ['inequality', 0, 0, 0],\n",
       " ['pointpats', 100, 9, 7],\n",
       " ['segregation', 62, 18, 0],\n",
       " ['spaghetti', 562, 96, 0],\n",
       " ['mgwr', 13, 5, 4],\n",
       " ['spglm', 6, 4, 3],\n",
       " ['spint', 14, 2, 2],\n",
       " ['spreg', 182, 32, 17],\n",
       " ['spvcm', 0, 0, 0],\n",
       " ['tobler', 207, 54, 34],\n",
       " ['mapclassify', 175, 52, 30],\n",
       " ['splot', 30, 4, 4],\n",
       " ['spopt', 276, 98, 62]]"
      ]
     },
     "execution_count": 45,
     "metadata": {},
     "output_type": "execute_result"
    }
   ],
   "source": [
    "table"
   ]
  },
  {
   "cell_type": "code",
   "execution_count": 46,
   "metadata": {},
   "outputs": [],
   "source": [
    "os.chdir(CWD)\n",
    "\n",
    "import pandas"
   ]
  },
  {
   "cell_type": "code",
   "execution_count": 47,
   "metadata": {},
   "outputs": [],
   "source": [
    "df = pandas.DataFrame(table, columns=['package', 'commits', 'total issues', 'pulls'])"
   ]
  },
  {
   "cell_type": "code",
   "execution_count": 48,
   "metadata": {},
   "outputs": [
    {
     "data": {
      "text/html": [
       "<div>\n",
       "<style scoped>\n",
       "    .dataframe tbody tr th:only-of-type {\n",
       "        vertical-align: middle;\n",
       "    }\n",
       "\n",
       "    .dataframe tbody tr th {\n",
       "        vertical-align: top;\n",
       "    }\n",
       "\n",
       "    .dataframe thead th {\n",
       "        text-align: right;\n",
       "    }\n",
       "</style>\n",
       "<table border=\"1\" class=\"dataframe\">\n",
       "  <thead>\n",
       "    <tr style=\"text-align: right;\">\n",
       "      <th></th>\n",
       "      <th>package</th>\n",
       "      <th>commits</th>\n",
       "      <th>total issues</th>\n",
       "      <th>pulls</th>\n",
       "    </tr>\n",
       "  </thead>\n",
       "  <tbody>\n",
       "    <tr>\n",
       "      <th>0</th>\n",
       "      <td>libpysal</td>\n",
       "      <td>352</td>\n",
       "      <td>99</td>\n",
       "      <td>0</td>\n",
       "    </tr>\n",
       "    <tr>\n",
       "      <th>1</th>\n",
       "      <td>access</td>\n",
       "      <td>137</td>\n",
       "      <td>6</td>\n",
       "      <td>5</td>\n",
       "    </tr>\n",
       "    <tr>\n",
       "      <th>2</th>\n",
       "      <td>esda</td>\n",
       "      <td>181</td>\n",
       "      <td>43</td>\n",
       "      <td>26</td>\n",
       "    </tr>\n",
       "    <tr>\n",
       "      <th>3</th>\n",
       "      <td>giddy</td>\n",
       "      <td>111</td>\n",
       "      <td>28</td>\n",
       "      <td>0</td>\n",
       "    </tr>\n",
       "    <tr>\n",
       "      <th>4</th>\n",
       "      <td>inequality</td>\n",
       "      <td>0</td>\n",
       "      <td>0</td>\n",
       "      <td>0</td>\n",
       "    </tr>\n",
       "  </tbody>\n",
       "</table>\n",
       "</div>"
      ],
      "text/plain": [
       "      package  commits  total issues  pulls\n",
       "0    libpysal      352            99      0\n",
       "1      access      137             6      5\n",
       "2        esda      181            43     26\n",
       "3       giddy      111            28      0\n",
       "4  inequality        0             0      0"
      ]
     },
     "execution_count": 48,
     "metadata": {},
     "output_type": "execute_result"
    }
   ],
   "source": [
    "df.head()"
   ]
  },
  {
   "cell_type": "code",
   "execution_count": 49,
   "metadata": {},
   "outputs": [],
   "source": [
    "df.sort_values(['commits','pulls'], ascending=False)\\\n",
    "  .to_html('./commit_table.html', index=None)"
   ]
  },
  {
   "cell_type": "code",
   "execution_count": 50,
   "metadata": {},
   "outputs": [
    {
     "data": {
      "text/plain": [
       "package         libpysalaccessesdagiddyinequalitypointpatssegr...\n",
       "commits                                                      2408\n",
       "total issues                                                  550\n",
       "pulls                                                         194\n",
       "dtype: object"
      ]
     },
     "execution_count": 50,
     "metadata": {},
     "output_type": "execute_result"
    }
   ],
   "source": [
    "df.sum()"
   ]
  },
  {
   "cell_type": "code",
   "execution_count": 51,
   "metadata": {},
   "outputs": [],
   "source": [
    "contributor_table = pandas.DataFrame.from_dict(counters).fillna(0).astype(int).T"
   ]
  },
  {
   "cell_type": "code",
   "execution_count": 52,
   "metadata": {},
   "outputs": [],
   "source": [
    "contributor_table.to_html('./contributor_table.html')"
   ]
  },
  {
   "cell_type": "code",
   "execution_count": 53,
   "metadata": {},
   "outputs": [
    {
     "data": {
      "text/html": [
       "<div>\n",
       "<style scoped>\n",
       "    .dataframe tbody tr th:only-of-type {\n",
       "        vertical-align: middle;\n",
       "    }\n",
       "\n",
       "    .dataframe tbody tr th {\n",
       "        vertical-align: top;\n",
       "    }\n",
       "\n",
       "    .dataframe thead th {\n",
       "        text-align: right;\n",
       "    }\n",
       "</style>\n",
       "<table border=\"1\" class=\"dataframe\">\n",
       "  <thead>\n",
       "    <tr style=\"text-align: right;\">\n",
       "      <th></th>\n",
       "      <th>commits</th>\n",
       "    </tr>\n",
       "  </thead>\n",
       "  <tbody>\n",
       "    <tr>\n",
       "      <th>Arfon Smith</th>\n",
       "      <td>1</td>\n",
       "    </tr>\n",
       "    <tr>\n",
       "      <th>Bryan Bennett</th>\n",
       "      <td>1</td>\n",
       "    </tr>\n",
       "    <tr>\n",
       "      <th>Dani Arribas-Bel</th>\n",
       "      <td>41</td>\n",
       "    </tr>\n",
       "    <tr>\n",
       "      <th>Dependabot[Bot]</th>\n",
       "      <td>45</td>\n",
       "    </tr>\n",
       "    <tr>\n",
       "      <th>Eli Knaap</th>\n",
       "      <td>193</td>\n",
       "    </tr>\n",
       "    <tr>\n",
       "      <th>Elliott Sales De Andrade</th>\n",
       "      <td>5</td>\n",
       "    </tr>\n",
       "    <tr>\n",
       "      <th>James Gaboardi</th>\n",
       "      <td>952</td>\n",
       "    </tr>\n",
       "    <tr>\n",
       "      <th>Jamie Saxon</th>\n",
       "      <td>41</td>\n",
       "    </tr>\n",
       "    <tr>\n",
       "      <th>Jcs Laptop</th>\n",
       "      <td>1</td>\n",
       "    </tr>\n",
       "    <tr>\n",
       "      <th>Jeffery Sauer</th>\n",
       "      <td>2</td>\n",
       "    </tr>\n",
       "    <tr>\n",
       "      <th>Jkoschinsky</th>\n",
       "      <td>6</td>\n",
       "    </tr>\n",
       "    <tr>\n",
       "      <th>Knaaptime</th>\n",
       "      <td>5</td>\n",
       "    </tr>\n",
       "    <tr>\n",
       "      <th>Levi John Wolf</th>\n",
       "      <td>154</td>\n",
       "    </tr>\n",
       "    <tr>\n",
       "      <th>Martin Fleischmann</th>\n",
       "      <td>28</td>\n",
       "    </tr>\n",
       "    <tr>\n",
       "      <th>Mgeeeek</th>\n",
       "      <td>7</td>\n",
       "    </tr>\n",
       "    <tr>\n",
       "      <th>Omar</th>\n",
       "      <td>2</td>\n",
       "    </tr>\n",
       "    <tr>\n",
       "      <th>Pablo Estrada</th>\n",
       "      <td>23</td>\n",
       "    </tr>\n",
       "    <tr>\n",
       "      <th>Pabloestradac</th>\n",
       "      <td>14</td>\n",
       "    </tr>\n",
       "    <tr>\n",
       "      <th>Pattyf</th>\n",
       "      <td>1</td>\n",
       "    </tr>\n",
       "    <tr>\n",
       "      <th>Pedro Amaral</th>\n",
       "      <td>68</td>\n",
       "    </tr>\n",
       "    <tr>\n",
       "      <th>Pedrovma</th>\n",
       "      <td>9</td>\n",
       "    </tr>\n",
       "    <tr>\n",
       "      <th>Rwei5</th>\n",
       "      <td>6</td>\n",
       "    </tr>\n",
       "    <tr>\n",
       "      <th>Serge</th>\n",
       "      <td>24</td>\n",
       "    </tr>\n",
       "    <tr>\n",
       "      <th>Serge Rey</th>\n",
       "      <td>340</td>\n",
       "    </tr>\n",
       "    <tr>\n",
       "      <th>Stefanie Lumnitz</th>\n",
       "      <td>39</td>\n",
       "    </tr>\n",
       "    <tr>\n",
       "      <th>Sugam Srivastava</th>\n",
       "      <td>4</td>\n",
       "    </tr>\n",
       "    <tr>\n",
       "      <th>Taylor Oshan</th>\n",
       "      <td>19</td>\n",
       "    </tr>\n",
       "    <tr>\n",
       "      <th>Vidal-Anguiano</th>\n",
       "      <td>32</td>\n",
       "    </tr>\n",
       "    <tr>\n",
       "      <th>Wagner</th>\n",
       "      <td>2</td>\n",
       "    </tr>\n",
       "    <tr>\n",
       "      <th>Wei Kang</th>\n",
       "      <td>111</td>\n",
       "    </tr>\n",
       "    <tr>\n",
       "      <th>Xin (Selena) Feng</th>\n",
       "      <td>21</td>\n",
       "    </tr>\n",
       "    <tr>\n",
       "      <th>Xin Feng</th>\n",
       "      <td>38</td>\n",
       "    </tr>\n",
       "    <tr>\n",
       "      <th>Ziqi Li</th>\n",
       "      <td>9</td>\n",
       "    </tr>\n",
       "  </tbody>\n",
       "</table>\n",
       "</div>"
      ],
      "text/plain": [
       "                          commits\n",
       "Arfon Smith                     1\n",
       "Bryan Bennett                   1\n",
       "Dani Arribas-Bel               41\n",
       "Dependabot[Bot]                45\n",
       "Eli Knaap                     193\n",
       "Elliott Sales De Andrade        5\n",
       "James Gaboardi                952\n",
       "Jamie Saxon                    41\n",
       "Jcs Laptop                      1\n",
       "Jeffery Sauer                   2\n",
       "Jkoschinsky                     6\n",
       "Knaaptime                       5\n",
       "Levi John Wolf                154\n",
       "Martin Fleischmann             28\n",
       "Mgeeeek                         7\n",
       "Omar                            2\n",
       "Pablo Estrada                  23\n",
       "Pabloestradac                  14\n",
       "Pattyf                          1\n",
       "Pedro Amaral                   68\n",
       "Pedrovma                        9\n",
       "Rwei5                           6\n",
       "Serge                          24\n",
       "Serge Rey                     340\n",
       "Stefanie Lumnitz               39\n",
       "Sugam Srivastava                4\n",
       "Taylor Oshan                   19\n",
       "Vidal-Anguiano                 32\n",
       "Wagner                          2\n",
       "Wei Kang                      111\n",
       "Xin (Selena) Feng              21\n",
       "Xin Feng                       38\n",
       "Ziqi Li                         9"
      ]
     },
     "execution_count": 53,
     "metadata": {},
     "output_type": "execute_result"
    }
   ],
   "source": [
    "totals = contributor_table.sum(axis=0).T\n",
    "totals.sort_index().to_frame('commits')"
   ]
  },
  {
   "cell_type": "code",
   "execution_count": 54,
   "metadata": {},
   "outputs": [],
   "source": [
    "totals = contributor_table.sum(axis=0).T\n",
    "totals.sort_index().to_frame('commits').to_html('./commits_by_person.html')"
   ]
  },
  {
   "cell_type": "code",
   "execution_count": 55,
   "metadata": {},
   "outputs": [
    {
     "data": {
      "text/plain": [
       "Serge Rey                   340\n",
       "James Gaboardi              952\n",
       "Serge                        24\n",
       "Dependabot[Bot]              45\n",
       "Martin Fleischmann           28\n",
       "Stefanie Lumnitz             39\n",
       "Mgeeeek                       7\n",
       "Elliott Sales De Andrade      5\n",
       "Dani Arribas-Bel             41\n",
       "Levi John Wolf              154\n",
       "Bryan Bennett                 1\n",
       "Jeffery Sauer                 2\n",
       "Wagner                        2\n",
       "Jkoschinsky                   6\n",
       "Jamie Saxon                  41\n",
       "Vidal-Anguiano               32\n",
       "Wei Kang                    111\n",
       "Eli Knaap                   193\n",
       "Sugam Srivastava              4\n",
       "Knaaptime                     5\n",
       "Omar                          2\n",
       "Taylor Oshan                 19\n",
       "Ziqi Li                       9\n",
       "Pedro Amaral                 68\n",
       "Pabloestradac                14\n",
       "Pablo Estrada                23\n",
       "Pedrovma                      9\n",
       "Pattyf                        1\n",
       "Jcs Laptop                    1\n",
       "Arfon Smith                   1\n",
       "Xin (Selena) Feng            21\n",
       "Xin Feng                     38\n",
       "Rwei5                         6\n",
       "dtype: int64"
      ]
     },
     "execution_count": 55,
     "metadata": {},
     "output_type": "execute_result"
    }
   ],
   "source": [
    "totals"
   ]
  },
  {
   "cell_type": "code",
   "execution_count": 56,
   "metadata": {},
   "outputs": [],
   "source": [
    "n_commits = df.commits.sum()\n",
    "n_issues = df['total issues'].sum()\n",
    "n_pulls = df.pulls.sum()"
   ]
  },
  {
   "cell_type": "code",
   "execution_count": 57,
   "metadata": {},
   "outputs": [
    {
     "data": {
      "text/plain": [
       "2408"
      ]
     },
     "execution_count": 57,
     "metadata": {},
     "output_type": "execute_result"
    }
   ],
   "source": [
    "n_commits"
   ]
  },
  {
   "cell_type": "code",
   "execution_count": 58,
   "metadata": {},
   "outputs": [],
   "source": [
    "#Overall, there were 719 commits that closed 240 issues, together with 105 pull requests across 12 packages since our last release on 2017-11-03.\n",
    "#('{0} Here is a really long '\n",
    "#           'sentence with {1}').format(3, 5))\n",
    "line = ('Overall, there were {n_commits} commits that closed {n_issues} issues,'  \n",
    "    ' together with {n_pulls} pull requests since our last release' \n",
    "        ' on {since_date}.\\n'.format(n_commits=n_commits, n_issues=n_issues,\n",
    "        n_pulls=n_pulls, since_date = start_date))"
   ]
  },
  {
   "cell_type": "code",
   "execution_count": 59,
   "metadata": {},
   "outputs": [
    {
     "data": {
      "text/plain": [
       "'Overall, there were 2408 commits that closed 550 issues, together with 194 pull requests since our last release on 2020-02-09.\\n'"
      ]
     },
     "execution_count": 59,
     "metadata": {},
     "output_type": "execute_result"
    }
   ],
   "source": [
    "line"
   ]
  },
  {
   "cell_type": "markdown",
   "metadata": {},
   "source": [
    "## append html files to end of changes.md with tags for toc"
   ]
  },
  {
   "cell_type": "code",
   "execution_count": 60,
   "metadata": {},
   "outputs": [],
   "source": [
    "with open('changes.md', 'w') as fout:\n",
    "    fout.write(line)\n",
    "    fout.write(\"\\n\".join(lines))\n",
    "    fout.write(get_tag(\"Summary Statistics\"))\n",
    "    \n",
    "    with open('commit_table.html') as table:\n",
    "        table_lines = table.readlines()\n",
    "        title = \"Package Activity\"\n",
    "        fout.write(get_tag(title,\"###\"))\n",
    "        fout.write(\"\\n\")\n",
    "        fout.write(\"\".join(table_lines))\n",
    "                \n",
    "    with open('commits_by_person.html') as table:\n",
    "        table_lines = table.readlines()\n",
    "        title = \"Contributor Activity\"\n",
    "        fout.write(get_tag(title,\"###\"))\n",
    "        fout.write(\"\\n\")\n",
    "        fout.write(\"\".join(table_lines))\n",
    "        \n",
    "    with open('contributor_table.html') as table:\n",
    "        table_lines = table.readlines()\n",
    "        title = \"Contributor by Package Activity\"\n",
    "        fout.write(get_tag(title,\"###\"))\n",
    "        fout.write(\"\\n\")\n",
    "        fout.write(\"\".join(table_lines))"
   ]
  },
  {
   "cell_type": "code",
   "execution_count": null,
   "metadata": {},
   "outputs": [],
   "source": []
  },
  {
   "cell_type": "code",
   "execution_count": null,
   "metadata": {},
   "outputs": [],
   "source": []
  }
 ],
 "metadata": {
  "kernelspec": {
   "display_name": "Python 3",
   "language": "python",
   "name": "python3"
  },
  "language_info": {
   "codemirror_mode": {
    "name": "ipython",
    "version": 3
   },
   "file_extension": ".py",
   "mimetype": "text/x-python",
   "name": "python",
   "nbconvert_exporter": "python",
   "pygments_lexer": "ipython3",
   "version": "3.7.9"
  }
 },
 "nbformat": 4,
 "nbformat_minor": 4
}
