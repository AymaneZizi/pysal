{
 "cells": [
  {
   "cell_type": "markdown",
   "metadata": {},
   "source": [
    "# PySAL Change Log Statistics"
   ]
  },
  {
   "cell_type": "markdown",
   "metadata": {},
   "source": [
    "## Approach\n",
    "- get date of last gh release of each package -> github_released\n",
    "- get date of last pypi release of each package -> pypi_released\n",
    "- get data of last meta-release -> start_date\n",
    "- for each package\n",
    "  - get issues between start_date and package_released in master/main\n",
    "  - get pulls between start_date and package_released in master/main"
   ]
  },
  {
   "cell_type": "code",
   "execution_count": null,
   "metadata": {},
   "outputs": [],
   "source": [
    "from release_info import (issues_closed_since, packages,\n",
    "                          is_pull_request,\n",
    "                          sorted_by_field,\n",
    "                          clone_defaults\n",
    "                         )\n",
    "import datetime"
   ]
  },
  {
   "cell_type": "code",
   "execution_count": 2,
   "metadata": {},
   "outputs": [
    {
     "name": "stdout",
     "output_type": "stream",
     "text": [
      "git clone --branch master https://github.com/pysal/libpysal.git tmp/libpysal\n",
      "git clone --branch master https://github.com/pysal/access.git tmp/access\n",
      "git clone --branch master https://github.com/pysal/esda.git tmp/esda\n",
      "git clone --branch master https://github.com/pysal/giddy.git tmp/giddy\n",
      "git clone --branch master https://github.com/pysal/inequality.git tmp/inequality\n",
      "git clone --branch master https://github.com/pysal/pointpats.git tmp/pointpats\n",
      "git clone --branch master https://github.com/pysal/segregation.git tmp/segregation\n",
      "git clone --branch main https://github.com/pysal/spaghetti.git tmp/spaghetti\n",
      "git clone --branch master https://github.com/pysal/mgwr.git tmp/mgwr\n",
      "git clone --branch master https://github.com/pysal/spglm.git tmp/spglm\n",
      "git clone --branch master https://github.com/pysal/spint.git tmp/spint\n",
      "git clone --branch master https://github.com/pysal/spreg.git tmp/spreg\n",
      "git clone --branch master https://github.com/pysal/spvcm.git tmp/spvcm\n",
      "git clone --branch master https://github.com/pysal/tobler.git tmp/tobler\n",
      "git clone --branch master https://github.com/pysal/mapclassify.git tmp/mapclassify\n",
      "git clone --branch master https://github.com/pysal/splot.git tmp/splot\n",
      "git clone --branch main https://github.com/pysal/spopt.git tmp/spopt\n"
     ]
    }
   ],
   "source": [
    "clone_defaults()"
   ]
  },
  {
   "cell_type": "code",
   "execution_count": 3,
   "metadata": {},
   "outputs": [
    {
     "data": {
      "text/plain": [
       "['libpysal',\n",
       " 'access',\n",
       " 'esda',\n",
       " 'giddy',\n",
       " 'inequality',\n",
       " 'pointpats',\n",
       " 'segregation',\n",
       " 'spaghetti',\n",
       " 'mgwr',\n",
       " 'spglm',\n",
       " 'spint',\n",
       " 'spreg',\n",
       " 'spvcm',\n",
       " 'tobler',\n",
       " 'mapclassify',\n",
       " 'splot',\n",
       " 'spopt']"
      ]
     },
     "execution_count": 3,
     "metadata": {},
     "output_type": "execute_result"
    }
   ],
   "source": [
    "packages"
   ]
  },
  {
   "cell_type": "code",
   "execution_count": 4,
   "metadata": {},
   "outputs": [
    {
     "data": {
      "text/plain": [
       "['libpysal',\n",
       " 'access',\n",
       " 'esda',\n",
       " 'giddy',\n",
       " 'inequality',\n",
       " 'pointpats',\n",
       " 'segregation',\n",
       " 'spaghetti',\n",
       " 'mgwr',\n",
       " 'spglm',\n",
       " 'spint',\n",
       " 'spreg',\n",
       " 'spvcm',\n",
       " 'tobler',\n",
       " 'mapclassify',\n",
       " 'splot',\n",
       " 'spopt']"
      ]
     },
     "execution_count": 4,
     "metadata": {},
     "output_type": "execute_result"
    }
   ],
   "source": [
    "packages"
   ]
  },
  {
   "cell_type": "code",
   "execution_count": 5,
   "metadata": {},
   "outputs": [
    {
     "data": {
      "text/plain": [
       "datetime.datetime(2020, 2, 9, 0, 0)"
      ]
     },
     "execution_count": 5,
     "metadata": {},
     "output_type": "execute_result"
    }
   ],
   "source": [
    "release_date = '2021-01-17'\n",
    "start_date = '2020-02-09'\n",
    "since_date = '--since=\"{start}\"'.format(start=start_date)\n",
    "since_date\n",
    "since = datetime.datetime.strptime(start_date+\" 0:0:0\", \"%Y-%m-%d %H:%M:%S\")\n",
    "since"
   ]
  },
  {
   "cell_type": "code",
   "execution_count": 6,
   "metadata": {},
   "outputs": [],
   "source": [
    "issues = {}\n",
    "for package in packages:\n",
    "    issues[package] = issues_closed_since(since, project=f'pysal/{package}')"
   ]
  },
  {
   "cell_type": "code",
   "execution_count": 7,
   "metadata": {},
   "outputs": [],
   "source": [
    "pulls = {}\n",
    "for package in packages:\n",
    "    pulls[package] = issues_closed_since(since, project=f'pysal/{package}',\n",
    "                                         pulls=True)"
   ]
  },
  {
   "cell_type": "code",
   "execution_count": 8,
   "metadata": {},
   "outputs": [
    {
     "data": {
      "text/plain": [
       "17"
      ]
     },
     "execution_count": 8,
     "metadata": {},
     "output_type": "execute_result"
    }
   ],
   "source": [
    "len(issues)"
   ]
  },
  {
   "cell_type": "code",
   "execution_count": 9,
   "metadata": {},
   "outputs": [
    {
     "data": {
      "text/plain": [
       "17"
      ]
     },
     "execution_count": 9,
     "metadata": {},
     "output_type": "execute_result"
    }
   ],
   "source": [
    "len(pulls)"
   ]
  },
  {
   "cell_type": "code",
   "execution_count": 11,
   "metadata": {},
   "outputs": [],
   "source": [
    "import pickle \n",
    "\n",
    "pickle.dump( issues, open( \"issues_closed.p\", \"wb\" ) )\n",
    "\n",
    "pickle.dump( pulls, open(\"pulls_closed.p\", \"wb\"))"
   ]
  },
  {
   "cell_type": "code",
   "execution_count": null,
   "metadata": {},
   "outputs": [],
   "source": []
  },
  {
   "cell_type": "code",
   "execution_count": null,
   "metadata": {},
   "outputs": [],
   "source": []
  }
 ],
 "metadata": {
  "kernelspec": {
   "display_name": "Python 3",
   "language": "python",
   "name": "python3"
  },
  "language_info": {
   "codemirror_mode": {
    "name": "ipython",
    "version": 3
   },
   "file_extension": ".py",
   "mimetype": "text/x-python",
   "name": "python",
   "nbconvert_exporter": "python",
   "pygments_lexer": "ipython3",
   "version": "3.7.9"
  }
 },
 "nbformat": 4,
 "nbformat_minor": 4
}
