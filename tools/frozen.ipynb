{
 "cells": [
  {
   "cell_type": "code",
   "execution_count": 1,
   "metadata": {},
   "outputs": [],
   "source": [
    "import json"
   ]
  },
  {
   "cell_type": "code",
   "execution_count": 2,
   "metadata": {},
   "outputs": [],
   "source": [
    "from release_info import get_github_info"
   ]
  },
  {
   "cell_type": "code",
   "execution_count": 3,
   "metadata": {},
   "outputs": [
    {
     "name": "stdout",
     "output_type": "stream",
     "text": [
      "https://api.github.com/repos/pysal/libpysal/releases/latest\n",
      "https://api.github.com/repos/pysal/access/releases/latest\n",
      "https://api.github.com/repos/pysal/esda/releases/latest\n",
      "https://api.github.com/repos/pysal/giddy/releases/latest\n",
      "https://api.github.com/repos/pysal/inequality/releases/latest\n",
      "https://api.github.com/repos/pysal/pointpats/releases/latest\n",
      "https://api.github.com/repos/pysal/segregation/releases/latest\n",
      "https://api.github.com/repos/pysal/spaghetti/releases/latest\n",
      "https://api.github.com/repos/pysal/mgwr/releases/latest\n",
      "https://api.github.com/repos/pysal/spglm/releases/latest\n",
      "https://api.github.com/repos/pysal/spint/releases/latest\n",
      "https://api.github.com/repos/pysal/spreg/releases/latest\n",
      "https://api.github.com/repos/pysal/spvcm/releases/latest\n",
      "https://api.github.com/repos/pysal/tobler/releases/latest\n",
      "https://api.github.com/repos/pysal/mapclassify/releases/latest\n",
      "https://api.github.com/repos/pysal/splot/releases/latest\n",
      "https://api.github.com/repos/pysal/spopt/releases/latest\n"
     ]
    }
   ],
   "source": [
    "releases = get_github_info()  "
   ]
  },
  {
   "cell_type": "code",
   "execution_count": 4,
   "metadata": {},
   "outputs": [
    {
     "data": {
      "text/plain": [
       "{'libpysal': {'version': 'v4.3.5',\n",
       "  'url': 'https://api.github.com/repos/pysal/libpysal/tarball/v4.3.5',\n",
       "  'release_date': datetime.datetime(2021, 1, 17, 4, 6, 18)},\n",
       " 'access': {'version': 'v1.1.1',\n",
       "  'url': 'https://api.github.com/repos/pysal/access/tarball/v1.1.1',\n",
       "  'release_date': datetime.datetime(2020, 7, 12, 17, 23, 50)},\n",
       " 'esda': {'version': 'v2.3.6',\n",
       "  'url': 'https://api.github.com/repos/pysal/esda/tarball/v2.3.6',\n",
       "  'release_date': datetime.datetime(2021, 1, 20, 17, 55, 32)},\n",
       " 'giddy': {'version': 'v2.3.3',\n",
       "  'url': 'https://api.github.com/repos/pysal/giddy/tarball/v2.3.3',\n",
       "  'release_date': datetime.datetime(2020, 6, 10, 4, 59, 45)},\n",
       " 'inequality': {'version': 'v1.0.0',\n",
       "  'url': 'https://api.github.com/repos/pysal/inequality/tarball/v1.0.0',\n",
       "  'release_date': datetime.datetime(2018, 10, 31, 22, 28, 18)},\n",
       " 'pointpats': {'version': 'v2.2.0',\n",
       "  'url': 'https://api.github.com/repos/pysal/pointpats/tarball/v2.2.0',\n",
       "  'release_date': datetime.datetime(2020, 7, 27, 22, 17, 33)},\n",
       " 'segregation': {'version': 'v1.5.0',\n",
       "  'url': 'https://api.github.com/repos/pysal/segregation/tarball/v1.5.0',\n",
       "  'release_date': datetime.datetime(2020, 12, 30, 3, 31, 1)},\n",
       " 'spaghetti': {'version': 'v1.5.6',\n",
       "  'url': 'https://api.github.com/repos/pysal/spaghetti/tarball/v1.5.6',\n",
       "  'release_date': datetime.datetime(2021, 1, 4, 20, 50, 6)},\n",
       " 'mgwr': {'version': 'v2.1.2',\n",
       "  'url': 'https://api.github.com/repos/pysal/mgwr/tarball/v2.1.2',\n",
       "  'release_date': datetime.datetime(2020, 9, 8, 21, 20, 34)},\n",
       " 'spglm': {'version': 'v1.0.8',\n",
       "  'url': 'https://api.github.com/repos/pysal/spglm/tarball/v1.0.8',\n",
       "  'release_date': datetime.datetime(2020, 9, 8, 20, 34, 8)},\n",
       " 'spint': {'version': 'v1.0.7',\n",
       "  'url': 'https://api.github.com/repos/pysal/spint/tarball/v1.0.7',\n",
       "  'release_date': datetime.datetime(2020, 9, 9, 2, 28, 50)},\n",
       " 'spreg': {'version': 'v1.2.2',\n",
       "  'url': 'https://api.github.com/repos/pysal/spreg/tarball/v1.2.2',\n",
       "  'release_date': datetime.datetime(2021, 1, 15, 19, 15, 15)},\n",
       " 'spvcm': {'version': 'v0.3.0',\n",
       "  'url': 'https://api.github.com/repos/pysal/spvcm/tarball/v0.3.0',\n",
       "  'release_date': datetime.datetime(2020, 2, 2, 19, 42, 39)},\n",
       " 'tobler': {'version': 'v0.6.0',\n",
       "  'url': 'https://api.github.com/repos/pysal/tobler/tarball/v0.6.0',\n",
       "  'release_date': datetime.datetime(2021, 1, 19, 20, 0, 19)},\n",
       " 'mapclassify': {'version': 'v2.4.2',\n",
       "  'url': 'https://api.github.com/repos/pysal/mapclassify/tarball/v2.4.2',\n",
       "  'release_date': datetime.datetime(2020, 12, 22, 23, 35, 40)},\n",
       " 'splot': {'version': 'v.1.1.3',\n",
       "  'url': 'https://api.github.com/repos/pysal/splot/tarball/v.1.1.3',\n",
       "  'release_date': datetime.datetime(2020, 3, 23, 11, 53, 30)},\n",
       " 'spopt': {'version': 'v0.1.0',\n",
       "  'url': 'https://api.github.com/repos/pysal/spopt/tarball/v0.1.0',\n",
       "  'release_date': datetime.datetime(2021, 1, 20, 0, 58, 37)}}"
      ]
     },
     "execution_count": 4,
     "metadata": {},
     "output_type": "execute_result"
    }
   ],
   "source": [
    "releases"
   ]
  },
  {
   "cell_type": "code",
   "execution_count": 5,
   "metadata": {},
   "outputs": [],
   "source": [
    "requirements = []\n",
    "for package in releases:\n",
    "    version = releases[package]['version']\n",
    "    version = version.replace(\"v\",\"\")\n",
    "    requirements.append(f'{package}>={version}')\n",
    "\n",
    "with open('frozen.txt', 'w') as f:\n",
    "    f.write(\"\\n\".join(requirements))"
   ]
  },
  {
   "cell_type": "code",
   "execution_count": 6,
   "metadata": {},
   "outputs": [],
   "source": [
    "import pickle \n",
    "pickle.dump(releases, open( \"releases.p\", \"wb\" ) )\n"
   ]
  },
  {
   "cell_type": "code",
   "execution_count": null,
   "metadata": {},
   "outputs": [],
   "source": []
  }
 ],
 "metadata": {
  "kernelspec": {
   "display_name": "Python 3",
   "language": "python",
   "name": "python3"
  },
  "language_info": {
   "codemirror_mode": {
    "name": "ipython",
    "version": 3
   },
   "file_extension": ".py",
   "mimetype": "text/x-python",
   "name": "python",
   "nbconvert_exporter": "python",
   "pygments_lexer": "ipython3",
   "version": "3.8.6"
  }
 },
 "nbformat": 4,
 "nbformat_minor": 5
}
